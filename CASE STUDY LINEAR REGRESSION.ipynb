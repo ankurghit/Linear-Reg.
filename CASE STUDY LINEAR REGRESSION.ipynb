{
 "cells": [
  {
   "cell_type": "raw",
   "id": "23c3d109",
   "metadata": {},
   "source": [
    "Investigating gender inequalities in Bank Salaries\n",
    "\n",
    "‘TrustBank’ national bank is facing a gender discrimination suit. The charge is that its women employees receive substantially smaller salaries than its men employees do. The bank’s employee data are listed in the file ‘’Bank Salaries.xls’’. For each of its 208 employees, the data set includes the following variables:\n",
    "•\tEducation: Indicates Education Level, a categorical variable with categories 1-5\n",
    "•\tGrade: A categorical variable indication current job level, 1-6, with 1 being lowest and 6 being highest\n",
    "•\tYears1: Years of experience with the bank\n",
    "•\tYears2: Number of years of work experience at another bank, prior to Fifth national\n",
    "•\tAge:  employee’s current age\n",
    "•\tGender: Categorical variable with values ‘Male’ and ‘Female’\n",
    "•\tPCJob: A Yes/No categorical variable indicating if the current job is computer related.\n",
    "•\tSalary: Current Annual Salary\n",
    "\n",
    "1-Does the data provide evidence that there is discrimination against females in terms of salary?\n",
    "2-Using a Regression model, what insights can you obtain about the gender differences if any?\n"
   ]
  },
  {
   "cell_type": "code",
   "execution_count": 1,
   "id": "ed7f75b5",
   "metadata": {},
   "outputs": [],
   "source": [
    "import numpy as np\n",
    "import pandas as pd\n",
    "import matplotlib.pyplot as plt\n",
    "import seaborn as sns\n",
    "import warnings\n",
    "warnings.filterwarnings('ignore')\n",
    "from scipy import stats\n",
    "from statsmodels.formula.api import ols\n",
    "from scipy.stats import f_oneway\n",
    "from sklearn.preprocessing import OneHotEncoder\n",
    "import statsmodels.api as sm\n",
    "import scipy.stats as stats\n",
    "from statsmodels.stats.outliers_influence import variance_inflation_factor\n",
    "import statsmodels.api as sm"
   ]
  },
  {
   "cell_type": "code",
   "execution_count": 2,
   "id": "7e4ed9c6",
   "metadata": {},
   "outputs": [],
   "source": [
    "#loading data \n",
    "df=pd.read_csv('banksalary.csv')"
   ]
  },
  {
   "cell_type": "code",
   "execution_count": 3,
   "id": "3de98f91",
   "metadata": {},
   "outputs": [
    {
     "name": "stdout",
     "output_type": "stream",
     "text": [
      "<class 'pandas.core.frame.DataFrame'>\n",
      "RangeIndex: 208 entries, 0 to 207\n",
      "Data columns (total 11 columns):\n",
      " #   Column       Non-Null Count  Dtype  \n",
      "---  ------       --------------  -----  \n",
      " 0   Employee     208 non-null    int64  \n",
      " 1   Education    208 non-null    int64  \n",
      " 2   Grade        208 non-null    int64  \n",
      " 3   Years1       208 non-null    int64  \n",
      " 4   Years2       208 non-null    int64  \n",
      " 5   Age          208 non-null    int64  \n",
      " 6   Gender       208 non-null    object \n",
      " 7   PC Job       208 non-null    object \n",
      " 8   Salary       208 non-null    object \n",
      " 9   Unnamed: 9   0 non-null      float64\n",
      " 10  Unnamed: 10  0 non-null      float64\n",
      "dtypes: float64(2), int64(6), object(3)\n",
      "memory usage: 18.0+ KB\n"
     ]
    }
   ],
   "source": [
    "# exploring data \n",
    "df.info() "
   ]
  },
  {
   "cell_type": "code",
   "execution_count": 4,
   "id": "ea3ff8b3",
   "metadata": {},
   "outputs": [
    {
     "data": {
      "text/html": [
       "<div>\n",
       "<style scoped>\n",
       "    .dataframe tbody tr th:only-of-type {\n",
       "        vertical-align: middle;\n",
       "    }\n",
       "\n",
       "    .dataframe tbody tr th {\n",
       "        vertical-align: top;\n",
       "    }\n",
       "\n",
       "    .dataframe thead th {\n",
       "        text-align: right;\n",
       "    }\n",
       "</style>\n",
       "<table border=\"1\" class=\"dataframe\">\n",
       "  <thead>\n",
       "    <tr style=\"text-align: right;\">\n",
       "      <th></th>\n",
       "      <th>Education</th>\n",
       "      <th>Grade</th>\n",
       "      <th>Years1</th>\n",
       "      <th>Years2</th>\n",
       "      <th>Age</th>\n",
       "      <th>Gender</th>\n",
       "      <th>PC Job</th>\n",
       "      <th>Salary</th>\n",
       "    </tr>\n",
       "  </thead>\n",
       "  <tbody>\n",
       "    <tr>\n",
       "      <th>0</th>\n",
       "      <td>3</td>\n",
       "      <td>1</td>\n",
       "      <td>3</td>\n",
       "      <td>1</td>\n",
       "      <td>26</td>\n",
       "      <td>Male</td>\n",
       "      <td>No</td>\n",
       "      <td>32000</td>\n",
       "    </tr>\n",
       "    <tr>\n",
       "      <th>1</th>\n",
       "      <td>1</td>\n",
       "      <td>1</td>\n",
       "      <td>14</td>\n",
       "      <td>1</td>\n",
       "      <td>38</td>\n",
       "      <td>Female</td>\n",
       "      <td>No</td>\n",
       "      <td>39100</td>\n",
       "    </tr>\n",
       "    <tr>\n",
       "      <th>2</th>\n",
       "      <td>1</td>\n",
       "      <td>1</td>\n",
       "      <td>12</td>\n",
       "      <td>0</td>\n",
       "      <td>35</td>\n",
       "      <td>Female</td>\n",
       "      <td>No</td>\n",
       "      <td>33200</td>\n",
       "    </tr>\n",
       "    <tr>\n",
       "      <th>3</th>\n",
       "      <td>2</td>\n",
       "      <td>1</td>\n",
       "      <td>8</td>\n",
       "      <td>7</td>\n",
       "      <td>40</td>\n",
       "      <td>Female</td>\n",
       "      <td>No</td>\n",
       "      <td>30600</td>\n",
       "    </tr>\n",
       "    <tr>\n",
       "      <th>4</th>\n",
       "      <td>3</td>\n",
       "      <td>1</td>\n",
       "      <td>3</td>\n",
       "      <td>0</td>\n",
       "      <td>28</td>\n",
       "      <td>Male</td>\n",
       "      <td>No</td>\n",
       "      <td>29000</td>\n",
       "    </tr>\n",
       "    <tr>\n",
       "      <th>...</th>\n",
       "      <td>...</td>\n",
       "      <td>...</td>\n",
       "      <td>...</td>\n",
       "      <td>...</td>\n",
       "      <td>...</td>\n",
       "      <td>...</td>\n",
       "      <td>...</td>\n",
       "      <td>...</td>\n",
       "    </tr>\n",
       "    <tr>\n",
       "      <th>203</th>\n",
       "      <td>3</td>\n",
       "      <td>6</td>\n",
       "      <td>34</td>\n",
       "      <td>0</td>\n",
       "      <td>60</td>\n",
       "      <td>Male</td>\n",
       "      <td>No</td>\n",
       "      <td>95000</td>\n",
       "    </tr>\n",
       "    <tr>\n",
       "      <th>204</th>\n",
       "      <td>5</td>\n",
       "      <td>6</td>\n",
       "      <td>36</td>\n",
       "      <td>0</td>\n",
       "      <td>61</td>\n",
       "      <td>Male</td>\n",
       "      <td>No</td>\n",
       "      <td>97000</td>\n",
       "    </tr>\n",
       "    <tr>\n",
       "      <th>205</th>\n",
       "      <td>5</td>\n",
       "      <td>6</td>\n",
       "      <td>32</td>\n",
       "      <td>0</td>\n",
       "      <td>62</td>\n",
       "      <td>Male</td>\n",
       "      <td>No</td>\n",
       "      <td>88000</td>\n",
       "    </tr>\n",
       "    <tr>\n",
       "      <th>206</th>\n",
       "      <td>5</td>\n",
       "      <td>6</td>\n",
       "      <td>35</td>\n",
       "      <td>0</td>\n",
       "      <td>59</td>\n",
       "      <td>Male</td>\n",
       "      <td>No</td>\n",
       "      <td>94000</td>\n",
       "    </tr>\n",
       "    <tr>\n",
       "      <th>207</th>\n",
       "      <td>5</td>\n",
       "      <td>6</td>\n",
       "      <td>33</td>\n",
       "      <td>0</td>\n",
       "      <td>62</td>\n",
       "      <td>Female</td>\n",
       "      <td>No</td>\n",
       "      <td>30000</td>\n",
       "    </tr>\n",
       "  </tbody>\n",
       "</table>\n",
       "<p>208 rows × 8 columns</p>\n",
       "</div>"
      ],
      "text/plain": [
       "     Education  Grade  Years1  Years2  Age  Gender PC Job  Salary\n",
       "0            3      1       3       1   26    Male     No   32000\n",
       "1            1      1      14       1   38  Female     No   39100\n",
       "2            1      1      12       0   35  Female     No   33200\n",
       "3            2      1       8       7   40  Female     No   30600\n",
       "4            3      1       3       0   28    Male     No   29000\n",
       "..         ...    ...     ...     ...  ...     ...    ...     ...\n",
       "203          3      6      34       0   60    Male     No   95000\n",
       "204          5      6      36       0   61    Male     No   97000\n",
       "205          5      6      32       0   62    Male     No   88000\n",
       "206          5      6      35       0   59    Male     No   94000\n",
       "207          5      6      33       0   62  Female     No   30000\n",
       "\n",
       "[208 rows x 8 columns]"
      ]
     },
     "execution_count": 4,
     "metadata": {},
     "output_type": "execute_result"
    }
   ],
   "source": [
    "df.drop([\"Unnamed: 10\",\"Unnamed: 9\",\"Employee\"],axis=1, inplace=True ) # dropping the column as they not usefull \n",
    "df['Salary'] = df['Salary'].str.replace('$', '')  # Remove dollar sign\n",
    "df['Salary'] = df['Salary'].str.replace(',', '')  # Remove comma\n",
    "df['Salary'] = pd.to_numeric(df['Salary'])  # Convert to numeric\n",
    "df"
   ]
  },
  {
   "cell_type": "code",
   "execution_count": 5,
   "id": "4c825423",
   "metadata": {},
   "outputs": [
    {
     "data": {
      "text/html": [
       "<div>\n",
       "<style scoped>\n",
       "    .dataframe tbody tr th:only-of-type {\n",
       "        vertical-align: middle;\n",
       "    }\n",
       "\n",
       "    .dataframe tbody tr th {\n",
       "        vertical-align: top;\n",
       "    }\n",
       "\n",
       "    .dataframe thead th {\n",
       "        text-align: right;\n",
       "    }\n",
       "</style>\n",
       "<table border=\"1\" class=\"dataframe\">\n",
       "  <thead>\n",
       "    <tr style=\"text-align: right;\">\n",
       "      <th></th>\n",
       "      <th>Education</th>\n",
       "      <th>Grade</th>\n",
       "      <th>Years1</th>\n",
       "      <th>Years2</th>\n",
       "      <th>Age</th>\n",
       "      <th>Salary</th>\n",
       "    </tr>\n",
       "  </thead>\n",
       "  <tbody>\n",
       "    <tr>\n",
       "      <th>count</th>\n",
       "      <td>208.000000</td>\n",
       "      <td>208.000000</td>\n",
       "      <td>208.000000</td>\n",
       "      <td>208.000000</td>\n",
       "      <td>208.000000</td>\n",
       "      <td>208.000000</td>\n",
       "    </tr>\n",
       "    <tr>\n",
       "      <th>mean</th>\n",
       "      <td>3.158654</td>\n",
       "      <td>2.759615</td>\n",
       "      <td>9.673077</td>\n",
       "      <td>2.375000</td>\n",
       "      <td>40.394231</td>\n",
       "      <td>39921.923077</td>\n",
       "    </tr>\n",
       "    <tr>\n",
       "      <th>std</th>\n",
       "      <td>1.467464</td>\n",
       "      <td>1.566529</td>\n",
       "      <td>6.987832</td>\n",
       "      <td>3.135237</td>\n",
       "      <td>10.318988</td>\n",
       "      <td>11256.153922</td>\n",
       "    </tr>\n",
       "    <tr>\n",
       "      <th>min</th>\n",
       "      <td>1.000000</td>\n",
       "      <td>1.000000</td>\n",
       "      <td>2.000000</td>\n",
       "      <td>0.000000</td>\n",
       "      <td>22.000000</td>\n",
       "      <td>26700.000000</td>\n",
       "    </tr>\n",
       "    <tr>\n",
       "      <th>25%</th>\n",
       "      <td>2.000000</td>\n",
       "      <td>1.000000</td>\n",
       "      <td>5.000000</td>\n",
       "      <td>0.000000</td>\n",
       "      <td>32.000000</td>\n",
       "      <td>33000.000000</td>\n",
       "    </tr>\n",
       "    <tr>\n",
       "      <th>50%</th>\n",
       "      <td>3.000000</td>\n",
       "      <td>3.000000</td>\n",
       "      <td>8.000000</td>\n",
       "      <td>1.000000</td>\n",
       "      <td>38.500000</td>\n",
       "      <td>37000.000000</td>\n",
       "    </tr>\n",
       "    <tr>\n",
       "      <th>75%</th>\n",
       "      <td>5.000000</td>\n",
       "      <td>4.000000</td>\n",
       "      <td>13.000000</td>\n",
       "      <td>4.000000</td>\n",
       "      <td>47.250000</td>\n",
       "      <td>44000.000000</td>\n",
       "    </tr>\n",
       "    <tr>\n",
       "      <th>max</th>\n",
       "      <td>5.000000</td>\n",
       "      <td>6.000000</td>\n",
       "      <td>39.000000</td>\n",
       "      <td>18.000000</td>\n",
       "      <td>65.000000</td>\n",
       "      <td>97000.000000</td>\n",
       "    </tr>\n",
       "  </tbody>\n",
       "</table>\n",
       "</div>"
      ],
      "text/plain": [
       "        Education       Grade      Years1      Years2         Age  \\\n",
       "count  208.000000  208.000000  208.000000  208.000000  208.000000   \n",
       "mean     3.158654    2.759615    9.673077    2.375000   40.394231   \n",
       "std      1.467464    1.566529    6.987832    3.135237   10.318988   \n",
       "min      1.000000    1.000000    2.000000    0.000000   22.000000   \n",
       "25%      2.000000    1.000000    5.000000    0.000000   32.000000   \n",
       "50%      3.000000    3.000000    8.000000    1.000000   38.500000   \n",
       "75%      5.000000    4.000000   13.000000    4.000000   47.250000   \n",
       "max      5.000000    6.000000   39.000000   18.000000   65.000000   \n",
       "\n",
       "             Salary  \n",
       "count    208.000000  \n",
       "mean   39921.923077  \n",
       "std    11256.153922  \n",
       "min    26700.000000  \n",
       "25%    33000.000000  \n",
       "50%    37000.000000  \n",
       "75%    44000.000000  \n",
       "max    97000.000000  "
      ]
     },
     "execution_count": 5,
     "metadata": {},
     "output_type": "execute_result"
    }
   ],
   "source": [
    "#univariate analysis of main data \n",
    "df.describe()"
   ]
  },
  {
   "cell_type": "markdown",
   "id": "64ab193c",
   "metadata": {},
   "source": [
    "observation: \n",
    "* years1, average exp is 9.6 years prior to current company, max exp in prior comapny is 39 years \n",
    "* years2, average exp is 2.3 in the same company, max exp in current company is 18 years  \n",
    "* age, average age of person is 40 years, where as minimum as is 22 and maximum age is 65\n",
    "* salary, the average salary 39921, minmum salary is 26000 , max salary is 97000"
   ]
  },
  {
   "cell_type": "code",
   "execution_count": 6,
   "id": "f0233d7d",
   "metadata": {},
   "outputs": [
    {
     "data": {
      "text/html": [
       "<div>\n",
       "<style scoped>\n",
       "    .dataframe tbody tr th:only-of-type {\n",
       "        vertical-align: middle;\n",
       "    }\n",
       "\n",
       "    .dataframe tbody tr th {\n",
       "        vertical-align: top;\n",
       "    }\n",
       "\n",
       "    .dataframe thead th {\n",
       "        text-align: right;\n",
       "    }\n",
       "</style>\n",
       "<table border=\"1\" class=\"dataframe\">\n",
       "  <thead>\n",
       "    <tr style=\"text-align: right;\">\n",
       "      <th></th>\n",
       "      <th>Education</th>\n",
       "      <th>Grade</th>\n",
       "      <th>Years1</th>\n",
       "      <th>Years2</th>\n",
       "      <th>Age</th>\n",
       "      <th>Salary</th>\n",
       "    </tr>\n",
       "  </thead>\n",
       "  <tbody>\n",
       "    <tr>\n",
       "      <th>Education</th>\n",
       "      <td>1.000000</td>\n",
       "      <td>0.590372</td>\n",
       "      <td>-0.062286</td>\n",
       "      <td>-0.136895</td>\n",
       "      <td>-0.197161</td>\n",
       "      <td>0.431910</td>\n",
       "    </tr>\n",
       "    <tr>\n",
       "      <th>Grade</th>\n",
       "      <td>0.590372</td>\n",
       "      <td>1.000000</td>\n",
       "      <td>0.448665</td>\n",
       "      <td>-0.053361</td>\n",
       "      <td>0.255730</td>\n",
       "      <td>0.785202</td>\n",
       "    </tr>\n",
       "    <tr>\n",
       "      <th>Years1</th>\n",
       "      <td>-0.062286</td>\n",
       "      <td>0.448665</td>\n",
       "      <td>1.000000</td>\n",
       "      <td>-0.117639</td>\n",
       "      <td>0.684152</td>\n",
       "      <td>0.615610</td>\n",
       "    </tr>\n",
       "    <tr>\n",
       "      <th>Years2</th>\n",
       "      <td>-0.136895</td>\n",
       "      <td>-0.053361</td>\n",
       "      <td>-0.117639</td>\n",
       "      <td>1.000000</td>\n",
       "      <td>0.132784</td>\n",
       "      <td>-0.062671</td>\n",
       "    </tr>\n",
       "    <tr>\n",
       "      <th>Age</th>\n",
       "      <td>-0.197161</td>\n",
       "      <td>0.255730</td>\n",
       "      <td>0.684152</td>\n",
       "      <td>0.132784</td>\n",
       "      <td>1.000000</td>\n",
       "      <td>0.383798</td>\n",
       "    </tr>\n",
       "    <tr>\n",
       "      <th>Salary</th>\n",
       "      <td>0.431910</td>\n",
       "      <td>0.785202</td>\n",
       "      <td>0.615610</td>\n",
       "      <td>-0.062671</td>\n",
       "      <td>0.383798</td>\n",
       "      <td>1.000000</td>\n",
       "    </tr>\n",
       "  </tbody>\n",
       "</table>\n",
       "</div>"
      ],
      "text/plain": [
       "           Education     Grade    Years1    Years2       Age    Salary\n",
       "Education   1.000000  0.590372 -0.062286 -0.136895 -0.197161  0.431910\n",
       "Grade       0.590372  1.000000  0.448665 -0.053361  0.255730  0.785202\n",
       "Years1     -0.062286  0.448665  1.000000 -0.117639  0.684152  0.615610\n",
       "Years2     -0.136895 -0.053361 -0.117639  1.000000  0.132784 -0.062671\n",
       "Age        -0.197161  0.255730  0.684152  0.132784  1.000000  0.383798\n",
       "Salary      0.431910  0.785202  0.615610 -0.062671  0.383798  1.000000"
      ]
     },
     "execution_count": 6,
     "metadata": {},
     "output_type": "execute_result"
    }
   ],
   "source": [
    "# correaltion main-data \n",
    "df.corr()"
   ]
  },
  {
   "cell_type": "markdown",
   "id": "f83aaa28",
   "metadata": {},
   "source": [
    "observation: \n",
    "* grades have highest corr with salary in main df among all numerical feature  0.78"
   ]
  },
  {
   "cell_type": "code",
   "execution_count": 7,
   "id": "a1966ce9",
   "metadata": {},
   "outputs": [
    {
     "data": {
      "text/html": [
       "<div>\n",
       "<style scoped>\n",
       "    .dataframe tbody tr th:only-of-type {\n",
       "        vertical-align: middle;\n",
       "    }\n",
       "\n",
       "    .dataframe tbody tr th {\n",
       "        vertical-align: top;\n",
       "    }\n",
       "\n",
       "    .dataframe thead th {\n",
       "        text-align: right;\n",
       "    }\n",
       "</style>\n",
       "<table border=\"1\" class=\"dataframe\">\n",
       "  <thead>\n",
       "    <tr style=\"text-align: right;\">\n",
       "      <th></th>\n",
       "      <th>Gender</th>\n",
       "      <th>PC Job</th>\n",
       "    </tr>\n",
       "  </thead>\n",
       "  <tbody>\n",
       "    <tr>\n",
       "      <th>count</th>\n",
       "      <td>208</td>\n",
       "      <td>208</td>\n",
       "    </tr>\n",
       "    <tr>\n",
       "      <th>unique</th>\n",
       "      <td>2</td>\n",
       "      <td>2</td>\n",
       "    </tr>\n",
       "    <tr>\n",
       "      <th>top</th>\n",
       "      <td>Female</td>\n",
       "      <td>No</td>\n",
       "    </tr>\n",
       "    <tr>\n",
       "      <th>freq</th>\n",
       "      <td>140</td>\n",
       "      <td>189</td>\n",
       "    </tr>\n",
       "  </tbody>\n",
       "</table>\n",
       "</div>"
      ],
      "text/plain": [
       "        Gender PC Job\n",
       "count      208    208\n",
       "unique       2      2\n",
       "top     Female     No\n",
       "freq       140    189"
      ]
     },
     "execution_count": 7,
     "metadata": {},
     "output_type": "execute_result"
    }
   ],
   "source": [
    "# analysis of categorical column \n",
    "df.describe(include = object)"
   ]
  },
  {
   "cell_type": "markdown",
   "id": "0b222b0e",
   "metadata": {},
   "source": [
    "observation : \n",
    "* In gender, we have two unquie value female with highest frequency of 140  and male of 68  with the total count of 208\n",
    "* In pc job, out of 208 observation 189 have desk job, 19 don't have."
   ]
  },
  {
   "cell_type": "markdown",
   "id": "d3631a35",
   "metadata": {},
   "source": [
    "# Visualization "
   ]
  },
  {
   "cell_type": "code",
   "execution_count": 8,
   "id": "823a8502",
   "metadata": {},
   "outputs": [
    {
     "data": {
      "image/png": "[encoded data removed]",
      "text/plain": [
       "<Figure size 640x480 with 1 Axes>"
      ]
     },
     "metadata": {},
     "output_type": "display_data"
    }
   ],
   "source": [
    "# Assuming your dataset is stored in a DataFrame called 'df'\n",
    "x = df['Years1']  # x-axis variable\n",
    "y = df['Salary']  # y-axis variable\n",
    "\n",
    "# Create a scatter plot\n",
    "plt.scatter(x, y)\n",
    "\n",
    "# Add labels and title\n",
    "plt.xlabel('Years1')\n",
    "plt.ylabel('Salary')\n",
    "plt.title('Scatter Plot of Years1 vs Salary')\n",
    "\n",
    "# Display the plot\n",
    "plt.show()\n"
   ]
  },
  {
   "cell_type": "code",
   "execution_count": 9,
   "id": "3cd2028b",
   "metadata": {},
   "outputs": [
    {
     "data": {
      "image/png": "[encoded data removed]",
      "text/plain": [
       "<Figure size 640x480 with 1 Axes>"
      ]
     },
     "metadata": {},
     "output_type": "display_data"
    }
   ],
   "source": [
    "# Assuming your dataset is stored in a DataFrame called 'df'\n",
    "x = df['Years2']  # x-axis variable\n",
    "y = df['Salary']  # y-axis variable\n",
    "\n",
    "# Create a scatter plot\n",
    "plt.scatter(x, y)\n",
    "\n",
    "# Add labels and title\n",
    "plt.xlabel('Years2')\n",
    "plt.ylabel('Salary')\n",
    "plt.title('Scatter Plot of Years2 vs Salary')\n",
    "\n",
    "# Display the plot\n",
    "plt.show()\n"
   ]
  },
  {
   "cell_type": "code",
   "execution_count": 10,
   "id": "ad5cff28",
   "metadata": {},
   "outputs": [
    {
     "data": {
      "image/png": "[encoded data removed]",
      "text/plain": [
       "<Figure size 640x480 with 1 Axes>"
      ]
     },
     "metadata": {},
     "output_type": "display_data"
    }
   ],
   "source": [
    "# Assuming your dataset is stored in a DataFrame called 'df'\n",
    "x = df['Age']  # x-axis variable\n",
    "y = df['Salary']  # y-axis variable\n",
    "\n",
    "# Create a scatter plot\n",
    "plt.scatter(x, y)\n",
    "\n",
    "# Add labels and title\n",
    "plt.xlabel('Age')\n",
    "plt.ylabel('Salary')\n",
    "plt.title('Scatter Plot of Age vs Salary')\n",
    "\n",
    "# Display the plot\n",
    "plt.show()\n"
   ]
  },
  {
   "cell_type": "markdown",
   "id": "cc1436ab",
   "metadata": {},
   "source": [
    "observation:  \n",
    "* (years1, year2,age) vs salary \n",
    "* thier are few outliers in all three scatter plots\n",
    "* in all 3 graph data is  mostly situated at lower qaud \n"
   ]
  },
  {
   "cell_type": "markdown",
   "id": "25c2a181",
   "metadata": {},
   "source": [
    "# Partioning male and female dataframe "
   ]
  },
  {
   "cell_type": "code",
   "execution_count": 11,
   "id": "842bc5a0",
   "metadata": {},
   "outputs": [],
   "source": [
    "#divding main dataframe into male and female \n",
    "df_male=df[df[\"Gender\"]==\"Male\"]\n",
    "df_female=df[df[\"Gender\"]==\"Female\"]"
   ]
  },
  {
   "cell_type": "markdown",
   "id": "b95bd23c",
   "metadata": {},
   "source": [
    "# Describe male and  female "
   ]
  },
  {
   "cell_type": "code",
   "execution_count": 12,
   "id": "9e07efdc",
   "metadata": {},
   "outputs": [
    {
     "data": {
      "text/html": [
       "<div>\n",
       "<style scoped>\n",
       "    .dataframe tbody tr th:only-of-type {\n",
       "        vertical-align: middle;\n",
       "    }\n",
       "\n",
       "    .dataframe tbody tr th {\n",
       "        vertical-align: top;\n",
       "    }\n",
       "\n",
       "    .dataframe thead th {\n",
       "        text-align: right;\n",
       "    }\n",
       "</style>\n",
       "<table border=\"1\" class=\"dataframe\">\n",
       "  <thead>\n",
       "    <tr style=\"text-align: right;\">\n",
       "      <th></th>\n",
       "      <th>Education</th>\n",
       "      <th>Grade</th>\n",
       "      <th>Years1</th>\n",
       "      <th>Years2</th>\n",
       "      <th>Age</th>\n",
       "      <th>Salary</th>\n",
       "    </tr>\n",
       "  </thead>\n",
       "  <tbody>\n",
       "    <tr>\n",
       "      <th>count</th>\n",
       "      <td>68.000000</td>\n",
       "      <td>68.000000</td>\n",
       "      <td>68.000000</td>\n",
       "      <td>68.000000</td>\n",
       "      <td>68.000000</td>\n",
       "      <td>68.000000</td>\n",
       "    </tr>\n",
       "    <tr>\n",
       "      <th>mean</th>\n",
       "      <td>3.926471</td>\n",
       "      <td>3.544118</td>\n",
       "      <td>9.867647</td>\n",
       "      <td>2.014706</td>\n",
       "      <td>39.382353</td>\n",
       "      <td>45505.441176</td>\n",
       "    </tr>\n",
       "    <tr>\n",
       "      <th>std</th>\n",
       "      <td>1.261558</td>\n",
       "      <td>1.799119</td>\n",
       "      <td>9.205619</td>\n",
       "      <td>3.054200</td>\n",
       "      <td>12.296134</td>\n",
       "      <td>15843.218280</td>\n",
       "    </tr>\n",
       "    <tr>\n",
       "      <th>min</th>\n",
       "      <td>1.000000</td>\n",
       "      <td>1.000000</td>\n",
       "      <td>2.000000</td>\n",
       "      <td>0.000000</td>\n",
       "      <td>22.000000</td>\n",
       "      <td>26700.000000</td>\n",
       "    </tr>\n",
       "    <tr>\n",
       "      <th>25%</th>\n",
       "      <td>3.000000</td>\n",
       "      <td>2.000000</td>\n",
       "      <td>4.000000</td>\n",
       "      <td>0.000000</td>\n",
       "      <td>29.000000</td>\n",
       "      <td>34375.000000</td>\n",
       "    </tr>\n",
       "    <tr>\n",
       "      <th>50%</th>\n",
       "      <td>5.000000</td>\n",
       "      <td>4.000000</td>\n",
       "      <td>6.000000</td>\n",
       "      <td>1.000000</td>\n",
       "      <td>34.500000</td>\n",
       "      <td>42500.000000</td>\n",
       "    </tr>\n",
       "    <tr>\n",
       "      <th>75%</th>\n",
       "      <td>5.000000</td>\n",
       "      <td>5.000000</td>\n",
       "      <td>12.250000</td>\n",
       "      <td>3.000000</td>\n",
       "      <td>51.250000</td>\n",
       "      <td>48625.000000</td>\n",
       "    </tr>\n",
       "    <tr>\n",
       "      <th>max</th>\n",
       "      <td>5.000000</td>\n",
       "      <td>6.000000</td>\n",
       "      <td>39.000000</td>\n",
       "      <td>18.000000</td>\n",
       "      <td>65.000000</td>\n",
       "      <td>97000.000000</td>\n",
       "    </tr>\n",
       "  </tbody>\n",
       "</table>\n",
       "</div>"
      ],
      "text/plain": [
       "       Education      Grade     Years1     Years2        Age        Salary\n",
       "count  68.000000  68.000000  68.000000  68.000000  68.000000     68.000000\n",
       "mean    3.926471   3.544118   9.867647   2.014706  39.382353  45505.441176\n",
       "std     1.261558   1.799119   9.205619   3.054200  12.296134  15843.218280\n",
       "min     1.000000   1.000000   2.000000   0.000000  22.000000  26700.000000\n",
       "25%     3.000000   2.000000   4.000000   0.000000  29.000000  34375.000000\n",
       "50%     5.000000   4.000000   6.000000   1.000000  34.500000  42500.000000\n",
       "75%     5.000000   5.000000  12.250000   3.000000  51.250000  48625.000000\n",
       "max     5.000000   6.000000  39.000000  18.000000  65.000000  97000.000000"
      ]
     },
     "execution_count": 12,
     "metadata": {},
     "output_type": "execute_result"
    }
   ],
   "source": [
    "#analysis of male dataframe \n",
    "df_male.describe()"
   ]
  },
  {
   "cell_type": "code",
   "execution_count": 13,
   "id": "841afcb2",
   "metadata": {},
   "outputs": [
    {
     "data": {
      "text/html": [
       "<div>\n",
       "<style scoped>\n",
       "    .dataframe tbody tr th:only-of-type {\n",
       "        vertical-align: middle;\n",
       "    }\n",
       "\n",
       "    .dataframe tbody tr th {\n",
       "        vertical-align: top;\n",
       "    }\n",
       "\n",
       "    .dataframe thead th {\n",
       "        text-align: right;\n",
       "    }\n",
       "</style>\n",
       "<table border=\"1\" class=\"dataframe\">\n",
       "  <thead>\n",
       "    <tr style=\"text-align: right;\">\n",
       "      <th></th>\n",
       "      <th>Education</th>\n",
       "      <th>Grade</th>\n",
       "      <th>Years1</th>\n",
       "      <th>Years2</th>\n",
       "      <th>Age</th>\n",
       "      <th>Salary</th>\n",
       "    </tr>\n",
       "  </thead>\n",
       "  <tbody>\n",
       "    <tr>\n",
       "      <th>count</th>\n",
       "      <td>140.000000</td>\n",
       "      <td>140.000000</td>\n",
       "      <td>140.000000</td>\n",
       "      <td>140.000000</td>\n",
       "      <td>140.000000</td>\n",
       "      <td>140.000000</td>\n",
       "    </tr>\n",
       "    <tr>\n",
       "      <th>mean</th>\n",
       "      <td>2.785714</td>\n",
       "      <td>2.378571</td>\n",
       "      <td>9.578571</td>\n",
       "      <td>2.550000</td>\n",
       "      <td>40.885714</td>\n",
       "      <td>37209.928571</td>\n",
       "    </tr>\n",
       "    <tr>\n",
       "      <th>std</th>\n",
       "      <td>1.418205</td>\n",
       "      <td>1.283363</td>\n",
       "      <td>5.642934</td>\n",
       "      <td>3.169833</td>\n",
       "      <td>9.216880</td>\n",
       "      <td>6710.866577</td>\n",
       "    </tr>\n",
       "    <tr>\n",
       "      <th>min</th>\n",
       "      <td>1.000000</td>\n",
       "      <td>1.000000</td>\n",
       "      <td>2.000000</td>\n",
       "      <td>0.000000</td>\n",
       "      <td>24.000000</td>\n",
       "      <td>26800.000000</td>\n",
       "    </tr>\n",
       "    <tr>\n",
       "      <th>25%</th>\n",
       "      <td>2.000000</td>\n",
       "      <td>1.000000</td>\n",
       "      <td>5.000000</td>\n",
       "      <td>0.000000</td>\n",
       "      <td>34.000000</td>\n",
       "      <td>32575.000000</td>\n",
       "    </tr>\n",
       "    <tr>\n",
       "      <th>50%</th>\n",
       "      <td>3.000000</td>\n",
       "      <td>2.000000</td>\n",
       "      <td>8.000000</td>\n",
       "      <td>1.000000</td>\n",
       "      <td>40.000000</td>\n",
       "      <td>35450.000000</td>\n",
       "    </tr>\n",
       "    <tr>\n",
       "      <th>75%</th>\n",
       "      <td>3.250000</td>\n",
       "      <td>3.000000</td>\n",
       "      <td>13.000000</td>\n",
       "      <td>5.000000</td>\n",
       "      <td>47.000000</td>\n",
       "      <td>41550.000000</td>\n",
       "    </tr>\n",
       "    <tr>\n",
       "      <th>max</th>\n",
       "      <td>5.000000</td>\n",
       "      <td>6.000000</td>\n",
       "      <td>33.000000</td>\n",
       "      <td>12.000000</td>\n",
       "      <td>64.000000</td>\n",
       "      <td>61800.000000</td>\n",
       "    </tr>\n",
       "  </tbody>\n",
       "</table>\n",
       "</div>"
      ],
      "text/plain": [
       "        Education       Grade      Years1      Years2         Age  \\\n",
       "count  140.000000  140.000000  140.000000  140.000000  140.000000   \n",
       "mean     2.785714    2.378571    9.578571    2.550000   40.885714   \n",
       "std      1.418205    1.283363    5.642934    3.169833    9.216880   \n",
       "min      1.000000    1.000000    2.000000    0.000000   24.000000   \n",
       "25%      2.000000    1.000000    5.000000    0.000000   34.000000   \n",
       "50%      3.000000    2.000000    8.000000    1.000000   40.000000   \n",
       "75%      3.250000    3.000000   13.000000    5.000000   47.000000   \n",
       "max      5.000000    6.000000   33.000000   12.000000   64.000000   \n",
       "\n",
       "             Salary  \n",
       "count    140.000000  \n",
       "mean   37209.928571  \n",
       "std     6710.866577  \n",
       "min    26800.000000  \n",
       "25%    32575.000000  \n",
       "50%    35450.000000  \n",
       "75%    41550.000000  \n",
       "max    61800.000000  "
      ]
     },
     "execution_count": 13,
     "metadata": {},
     "output_type": "execute_result"
    }
   ],
   "source": [
    "#analysis of female dataframe \n",
    "df_female.describe()"
   ]
  },
  {
   "cell_type": "markdown",
   "id": "ecc23118",
   "metadata": {},
   "source": [
    "observation :\n",
    "* in male and female dataframe thier is not much difference between except salary, where avg age of 40 yr of male earn 7000 more than women"
   ]
  },
  {
   "cell_type": "markdown",
   "id": "51242ebe",
   "metadata": {},
   "source": [
    "# Correlation male and female "
   ]
  },
  {
   "cell_type": "code",
   "execution_count": 14,
   "id": "0efea799",
   "metadata": {},
   "outputs": [
    {
     "data": {
      "text/html": [
       "<div>\n",
       "<style scoped>\n",
       "    .dataframe tbody tr th:only-of-type {\n",
       "        vertical-align: middle;\n",
       "    }\n",
       "\n",
       "    .dataframe tbody tr th {\n",
       "        vertical-align: top;\n",
       "    }\n",
       "\n",
       "    .dataframe thead th {\n",
       "        text-align: right;\n",
       "    }\n",
       "</style>\n",
       "<table border=\"1\" class=\"dataframe\">\n",
       "  <thead>\n",
       "    <tr style=\"text-align: right;\">\n",
       "      <th></th>\n",
       "      <th>Education</th>\n",
       "      <th>Grade</th>\n",
       "      <th>Years1</th>\n",
       "      <th>Years2</th>\n",
       "      <th>Age</th>\n",
       "      <th>Salary</th>\n",
       "    </tr>\n",
       "  </thead>\n",
       "  <tbody>\n",
       "    <tr>\n",
       "      <th>Education</th>\n",
       "      <td>1.000000</td>\n",
       "      <td>0.609725</td>\n",
       "      <td>0.163653</td>\n",
       "      <td>-0.270871</td>\n",
       "      <td>-0.004896</td>\n",
       "      <td>0.420672</td>\n",
       "    </tr>\n",
       "    <tr>\n",
       "      <th>Grade</th>\n",
       "      <td>0.609725</td>\n",
       "      <td>1.000000</td>\n",
       "      <td>0.667683</td>\n",
       "      <td>-0.254088</td>\n",
       "      <td>0.514006</td>\n",
       "      <td>0.820983</td>\n",
       "    </tr>\n",
       "    <tr>\n",
       "      <th>Years1</th>\n",
       "      <td>0.163653</td>\n",
       "      <td>0.667683</td>\n",
       "      <td>1.000000</td>\n",
       "      <td>-0.154408</td>\n",
       "      <td>0.780652</td>\n",
       "      <td>0.887698</td>\n",
       "    </tr>\n",
       "    <tr>\n",
       "      <th>Years2</th>\n",
       "      <td>-0.270871</td>\n",
       "      <td>-0.254088</td>\n",
       "      <td>-0.154408</td>\n",
       "      <td>1.000000</td>\n",
       "      <td>0.174717</td>\n",
       "      <td>-0.246586</td>\n",
       "    </tr>\n",
       "    <tr>\n",
       "      <th>Age</th>\n",
       "      <td>-0.004896</td>\n",
       "      <td>0.514006</td>\n",
       "      <td>0.780652</td>\n",
       "      <td>0.174717</td>\n",
       "      <td>1.000000</td>\n",
       "      <td>0.660464</td>\n",
       "    </tr>\n",
       "    <tr>\n",
       "      <th>Salary</th>\n",
       "      <td>0.420672</td>\n",
       "      <td>0.820983</td>\n",
       "      <td>0.887698</td>\n",
       "      <td>-0.246586</td>\n",
       "      <td>0.660464</td>\n",
       "      <td>1.000000</td>\n",
       "    </tr>\n",
       "  </tbody>\n",
       "</table>\n",
       "</div>"
      ],
      "text/plain": [
       "           Education     Grade    Years1    Years2       Age    Salary\n",
       "Education   1.000000  0.609725  0.163653 -0.270871 -0.004896  0.420672\n",
       "Grade       0.609725  1.000000  0.667683 -0.254088  0.514006  0.820983\n",
       "Years1      0.163653  0.667683  1.000000 -0.154408  0.780652  0.887698\n",
       "Years2     -0.270871 -0.254088 -0.154408  1.000000  0.174717 -0.246586\n",
       "Age        -0.004896  0.514006  0.780652  0.174717  1.000000  0.660464\n",
       "Salary      0.420672  0.820983  0.887698 -0.246586  0.660464  1.000000"
      ]
     },
     "execution_count": 14,
     "metadata": {},
     "output_type": "execute_result"
    }
   ],
   "source": [
    "#male\n",
    "df_male.corr()"
   ]
  },
  {
   "cell_type": "code",
   "execution_count": 15,
   "id": "9fed35dd",
   "metadata": {},
   "outputs": [
    {
     "data": {
      "text/html": [
       "<div>\n",
       "<style scoped>\n",
       "    .dataframe tbody tr th:only-of-type {\n",
       "        vertical-align: middle;\n",
       "    }\n",
       "\n",
       "    .dataframe tbody tr th {\n",
       "        vertical-align: top;\n",
       "    }\n",
       "\n",
       "    .dataframe thead th {\n",
       "        text-align: right;\n",
       "    }\n",
       "</style>\n",
       "<table border=\"1\" class=\"dataframe\">\n",
       "  <thead>\n",
       "    <tr style=\"text-align: right;\">\n",
       "      <th></th>\n",
       "      <th>Education</th>\n",
       "      <th>Grade</th>\n",
       "      <th>Years1</th>\n",
       "      <th>Years2</th>\n",
       "      <th>Age</th>\n",
       "      <th>Salary</th>\n",
       "    </tr>\n",
       "  </thead>\n",
       "  <tbody>\n",
       "    <tr>\n",
       "      <th>Education</th>\n",
       "      <td>1.000000</td>\n",
       "      <td>0.503408</td>\n",
       "      <td>-0.246893</td>\n",
       "      <td>-0.052011</td>\n",
       "      <td>-0.294139</td>\n",
       "      <td>0.363090</td>\n",
       "    </tr>\n",
       "    <tr>\n",
       "      <th>Grade</th>\n",
       "      <td>0.503408</td>\n",
       "      <td>1.000000</td>\n",
       "      <td>0.258621</td>\n",
       "      <td>0.119991</td>\n",
       "      <td>0.105863</td>\n",
       "      <td>0.714718</td>\n",
       "    </tr>\n",
       "    <tr>\n",
       "      <th>Years1</th>\n",
       "      <td>-0.246893</td>\n",
       "      <td>0.258621</td>\n",
       "      <td>1.000000</td>\n",
       "      <td>-0.094739</td>\n",
       "      <td>0.596349</td>\n",
       "      <td>0.235411</td>\n",
       "    </tr>\n",
       "    <tr>\n",
       "      <th>Years2</th>\n",
       "      <td>-0.052011</td>\n",
       "      <td>0.119991</td>\n",
       "      <td>-0.094739</td>\n",
       "      <td>1.000000</td>\n",
       "      <td>0.101649</td>\n",
       "      <td>0.184269</td>\n",
       "    </tr>\n",
       "    <tr>\n",
       "      <th>Age</th>\n",
       "      <td>-0.294139</td>\n",
       "      <td>0.105863</td>\n",
       "      <td>0.596349</td>\n",
       "      <td>0.101649</td>\n",
       "      <td>1.000000</td>\n",
       "      <td>0.137023</td>\n",
       "    </tr>\n",
       "    <tr>\n",
       "      <th>Salary</th>\n",
       "      <td>0.363090</td>\n",
       "      <td>0.714718</td>\n",
       "      <td>0.235411</td>\n",
       "      <td>0.184269</td>\n",
       "      <td>0.137023</td>\n",
       "      <td>1.000000</td>\n",
       "    </tr>\n",
       "  </tbody>\n",
       "</table>\n",
       "</div>"
      ],
      "text/plain": [
       "           Education     Grade    Years1    Years2       Age    Salary\n",
       "Education   1.000000  0.503408 -0.246893 -0.052011 -0.294139  0.363090\n",
       "Grade       0.503408  1.000000  0.258621  0.119991  0.105863  0.714718\n",
       "Years1     -0.246893  0.258621  1.000000 -0.094739  0.596349  0.235411\n",
       "Years2     -0.052011  0.119991 -0.094739  1.000000  0.101649  0.184269\n",
       "Age        -0.294139  0.105863  0.596349  0.101649  1.000000  0.137023\n",
       "Salary      0.363090  0.714718  0.235411  0.184269  0.137023  1.000000"
      ]
     },
     "execution_count": 15,
     "metadata": {},
     "output_type": "execute_result"
    }
   ],
   "source": [
    "#female \n",
    "df_female.corr()"
   ]
  },
  {
   "cell_type": "markdown",
   "id": "3058c5fa",
   "metadata": {},
   "source": [
    "observation :\n",
    "* in male df  have high corr with grades, yeasr1,and age \n",
    "* in female df have high corr with grades (which common with male )\n"
   ]
  },
  {
   "cell_type": "markdown",
   "id": "dd2df0d6",
   "metadata": {},
   "source": [
    "# Salary plot male and female "
   ]
  },
  {
   "cell_type": "code",
   "execution_count": 16,
   "id": "8da3b670",
   "metadata": {},
   "outputs": [
    {
     "data": {
      "text/plain": [
       "<AxesSubplot:xlabel='Salary', ylabel='Density'>"
      ]
     },
     "execution_count": 16,
     "metadata": {},
     "output_type": "execute_result"
    },
    {
     "data": {
      "image/png": "[encoded data removed]",
      "text/plain": [
       "<Figure size 640x480 with 1 Axes>"
      ]
     },
     "metadata": {},
     "output_type": "display_data"
    }
   ],
   "source": [
    "#male\n",
    "sns.distplot(df_male['Salary'], hist=True)    "
   ]
  },
  {
   "cell_type": "code",
   "execution_count": 17,
   "id": "b444d49c",
   "metadata": {},
   "outputs": [
    {
     "data": {
      "text/plain": [
       "<AxesSubplot:xlabel='Salary', ylabel='Density'>"
      ]
     },
     "execution_count": 17,
     "metadata": {},
     "output_type": "execute_result"
    },
    {
     "data": {
      "image/png": "[encoded data removed]",
      "text/plain": [
       "<Figure size 640x480 with 1 Axes>"
      ]
     },
     "metadata": {},
     "output_type": "display_data"
    }
   ],
   "source": [
    "#female\n",
    "sns.distplot(df_female['Salary'], hist=True)"
   ]
  },
  {
   "cell_type": "markdown",
   "id": "fbffbb06",
   "metadata": {},
   "source": [
    "\n",
    "\n",
    "# Age plot male and female  "
   ]
  },
  {
   "cell_type": "code",
   "execution_count": 18,
   "id": "f0894eb2",
   "metadata": {},
   "outputs": [
    {
     "data": {
      "text/plain": [
       "<AxesSubplot:xlabel='Age', ylabel='Density'>"
      ]
     },
     "execution_count": 18,
     "metadata": {},
     "output_type": "execute_result"
    },
    {
     "data": {
      "image/png": "[encoded data removed]",
      "text/plain": [
       "<Figure size 640x480 with 1 Axes>"
      ]
     },
     "metadata": {},
     "output_type": "display_data"
    }
   ],
   "source": [
    "#male \n",
    "sns.distplot(df_male['Age'], hist=True)"
   ]
  },
  {
   "cell_type": "code",
   "execution_count": 19,
   "id": "e31f71c3",
   "metadata": {},
   "outputs": [
    {
     "data": {
      "text/plain": [
       "<AxesSubplot:xlabel='Age', ylabel='Density'>"
      ]
     },
     "execution_count": 19,
     "metadata": {},
     "output_type": "execute_result"
    },
    {
     "data": {
      "image/png": "[encoded data removed]",
      "text/plain": [
       "<Figure size 640x480 with 1 Axes>"
      ]
     },
     "metadata": {},
     "output_type": "display_data"
    }
   ],
   "source": [
    "#female\n",
    "sns.distplot(df_female['Age'], hist=True)"
   ]
  },
  {
   "cell_type": "markdown",
   "id": "7715e468",
   "metadata": {},
   "source": [
    "# Years1 plot male and female "
   ]
  },
  {
   "cell_type": "code",
   "execution_count": 20,
   "id": "c5e6bd7d",
   "metadata": {},
   "outputs": [
    {
     "data": {
      "text/plain": [
       "<seaborn.axisgrid.FacetGrid at 0x18bd8ce0070>"
      ]
     },
     "execution_count": 20,
     "metadata": {},
     "output_type": "execute_result"
    },
    {
     "data": {
      "image/png": "[encoded data removed]",
      "text/plain": [
       "<Figure size 500x500 with 1 Axes>"
      ]
     },
     "metadata": {},
     "output_type": "display_data"
    }
   ],
   "source": [
    "#male \n",
    "sns.displot(df_male[\"Years1\"])"
   ]
  },
  {
   "cell_type": "code",
   "execution_count": 21,
   "id": "3d221e0b",
   "metadata": {},
   "outputs": [
    {
     "data": {
      "text/plain": [
       "<seaborn.axisgrid.FacetGrid at 0x18bd8ddd8b0>"
      ]
     },
     "execution_count": 21,
     "metadata": {},
     "output_type": "execute_result"
    },
    {
     "data": {
      "image/png": "[encoded data removed]",
      "text/plain": [
       "<Figure size 500x500 with 1 Axes>"
      ]
     },
     "metadata": {},
     "output_type": "display_data"
    }
   ],
   "source": [
    "#female \n",
    "sns.displot(df_female[\"Years1\"])"
   ]
  },
  {
   "cell_type": "markdown",
   "id": "4491f259",
   "metadata": {},
   "source": [
    "# Years2 plot male and female "
   ]
  },
  {
   "cell_type": "code",
   "execution_count": 22,
   "id": "2945ef15",
   "metadata": {
    "scrolled": true
   },
   "outputs": [
    {
     "data": {
      "text/plain": [
       "<seaborn.axisgrid.FacetGrid at 0x18bd8cf0e50>"
      ]
     },
     "execution_count": 22,
     "metadata": {},
     "output_type": "execute_result"
    },
    {
     "data": {
      "image/png": "[encoded data removed]",
      "text/plain": [
       "<Figure size 500x500 with 1 Axes>"
      ]
     },
     "metadata": {},
     "output_type": "display_data"
    }
   ],
   "source": [
    "#male \n",
    "sns.displot(df_male[\"Years2\"])"
   ]
  },
  {
   "cell_type": "code",
   "execution_count": 23,
   "id": "29bde115",
   "metadata": {
    "scrolled": true
   },
   "outputs": [
    {
     "data": {
      "text/plain": [
       "<seaborn.axisgrid.FacetGrid at 0x18bd8cf09a0>"
      ]
     },
     "execution_count": 23,
     "metadata": {},
     "output_type": "execute_result"
    },
    {
     "data": {
      "image/png": "[encoded data removed]",
      "text/plain": [
       "<Figure size 500x500 with 1 Axes>"
      ]
     },
     "metadata": {},
     "output_type": "display_data"
    }
   ],
   "source": [
    "#female\n",
    "sns.displot(df_female[\"Years2\"])"
   ]
  },
  {
   "cell_type": "markdown",
   "id": "18635dde",
   "metadata": {},
   "source": [
    "# Bivariate Analysis "
   ]
  },
  {
   "cell_type": "markdown",
   "id": "4120a15e",
   "metadata": {},
   "source": [
    "# Education and Salary -  male vs female "
   ]
  },
  {
   "cell_type": "code",
   "execution_count": 24,
   "id": "54968c34",
   "metadata": {},
   "outputs": [
    {
     "data": {
      "text/plain": [
       "<BarContainer object of 5 artists>"
      ]
     },
     "execution_count": 24,
     "metadata": {},
     "output_type": "execute_result"
    },
    {
     "data": {
      "image/png": "[encoded data removed]",
      "text/plain": [
       "<Figure size 640x480 with 1 Axes>"
      ]
     },
     "metadata": {},
     "output_type": "display_data"
    }
   ],
   "source": [
    "avg_salary = df_male.groupby('Education')['Salary'].mean()\n",
    "\n",
    "# Create the bar plot using matplotlib\n",
    "plt.bar(avg_salary.index, avg_salary.values) "
   ]
  },
  {
   "cell_type": "code",
   "execution_count": 25,
   "id": "e10602c6",
   "metadata": {},
   "outputs": [
    {
     "data": {
      "text/plain": [
       "<BarContainer object of 5 artists>"
      ]
     },
     "execution_count": 25,
     "metadata": {},
     "output_type": "execute_result"
    },
    {
     "data": {
      "image/png": "[encoded data removed]",
      "text/plain": [
       "<Figure size 640x480 with 1 Axes>"
      ]
     },
     "metadata": {},
     "output_type": "display_data"
    }
   ],
   "source": [
    "avg_salary = df_female.groupby('Education')['Salary'].mean()\n",
    "\n",
    "# Create the bar plot using matplotlib\n",
    "plt.bar(avg_salary.index, avg_salary.values)"
   ]
  },
  {
   "cell_type": "markdown",
   "id": "af315096",
   "metadata": {},
   "source": [
    "observation:\n",
    "* There is a slow gradual rise in salary as the Education level increases in male and female \n"
   ]
  },
  {
   "cell_type": "markdown",
   "id": "f74887e4",
   "metadata": {},
   "source": [
    "# Grade and Salary - male vs female "
   ]
  },
  {
   "cell_type": "code",
   "execution_count": 26,
   "id": "66443e26",
   "metadata": {},
   "outputs": [
    {
     "data": {
      "text/plain": [
       "<BarContainer object of 6 artists>"
      ]
     },
     "execution_count": 26,
     "metadata": {},
     "output_type": "execute_result"
    },
    {
     "data": {
      "image/png": "[encoded data removed]",
      "text/plain": [
       "<Figure size 640x480 with 1 Axes>"
      ]
     },
     "metadata": {},
     "output_type": "display_data"
    }
   ],
   "source": [
    "avg_salary = df_male .groupby('Grade')['Salary'].mean()\n",
    "\n",
    "# Create the bar plot using matplotlib\n",
    "plt.bar(avg_salary.index, avg_salary.values)"
   ]
  },
  {
   "cell_type": "code",
   "execution_count": 27,
   "id": "4b5589f9",
   "metadata": {},
   "outputs": [
    {
     "data": {
      "text/plain": [
       "<BarContainer object of 6 artists>"
      ]
     },
     "execution_count": 27,
     "metadata": {},
     "output_type": "execute_result"
    },
    {
     "data": {
      "image/png": "[encoded data removed]",
      "text/plain": [
       "<Figure size 640x480 with 1 Axes>"
      ]
     },
     "metadata": {},
     "output_type": "display_data"
    }
   ],
   "source": [
    "avg_salary = df_female .groupby('Grade')['Salary'].mean()\n",
    "\n",
    "# Create the bar plot using matplotlib\n",
    "plt.bar(avg_salary.index, avg_salary.values)"
   ]
  },
  {
   "cell_type": "markdown",
   "id": "e5823795",
   "metadata": {},
   "source": [
    "observation:\n",
    "* grade 6 men are higly paid then women "
   ]
  },
  {
   "cell_type": "markdown",
   "id": "3cea424a",
   "metadata": {},
   "source": [
    "# Years1 and Salary (scatterplot) - male vs female "
   ]
  },
  {
   "cell_type": "code",
   "execution_count": 28,
   "id": "aef36738",
   "metadata": {},
   "outputs": [
    {
     "data": {
      "text/plain": [
       "<AxesSubplot:xlabel='Years1', ylabel='Salary'>"
      ]
     },
     "execution_count": 28,
     "metadata": {},
     "output_type": "execute_result"
    },
    {
     "data": {
      "image/png": "[encoded data removed]",
      "text/plain": [
       "<Figure size 640x480 with 1 Axes>"
      ]
     },
     "metadata": {},
     "output_type": "display_data"
    }
   ],
   "source": [
    "sns.scatterplot(x=df_male[\"Years1\"], y=df_male[\"Salary\"])"
   ]
  },
  {
   "cell_type": "code",
   "execution_count": 29,
   "id": "3d0d8a81",
   "metadata": {},
   "outputs": [
    {
     "data": {
      "text/plain": [
       "<AxesSubplot:xlabel='Years1', ylabel='Salary'>"
      ]
     },
     "execution_count": 29,
     "metadata": {},
     "output_type": "execute_result"
    },
    {
     "data": {
      "image/png": "[encoded data removed]",
      "text/plain": [
       "<Figure size 640x480 with 1 Axes>"
      ]
     },
     "metadata": {},
     "output_type": "display_data"
    }
   ],
   "source": [
    "sns.scatterplot(x=df_female[\"Years1\"], y=df_female[\"Salary\"])"
   ]
  },
  {
   "cell_type": "markdown",
   "id": "0b2b0edc",
   "metadata": {},
   "source": [
    "# Years2 and Salary (scatterplot) - male vs female "
   ]
  },
  {
   "cell_type": "code",
   "execution_count": 30,
   "id": "234ecef2",
   "metadata": {},
   "outputs": [
    {
     "data": {
      "text/plain": [
       "<AxesSubplot:xlabel='Years2', ylabel='Salary'>"
      ]
     },
     "execution_count": 30,
     "metadata": {},
     "output_type": "execute_result"
    },
    {
     "data": {
      "image/png": "[encoded data removed]",
      "text/plain": [
       "<Figure size 640x480 with 1 Axes>"
      ]
     },
     "metadata": {},
     "output_type": "display_data"
    }
   ],
   "source": [
    "sns.scatterplot(x=df_male[\"Years2\"], y=df_male[\"Salary\"])"
   ]
  },
  {
   "cell_type": "code",
   "execution_count": 31,
   "id": "996042f8",
   "metadata": {},
   "outputs": [
    {
     "data": {
      "text/plain": [
       "<AxesSubplot:xlabel='Years2', ylabel='Salary'>"
      ]
     },
     "execution_count": 31,
     "metadata": {},
     "output_type": "execute_result"
    },
    {
     "data": {
      "image/png": "[encoded data removed]",
      "text/plain": [
       "<Figure size 640x480 with 1 Axes>"
      ]
     },
     "metadata": {},
     "output_type": "display_data"
    }
   ],
   "source": [
    "sns.scatterplot(x=df_female[\"Years2\"], y=df_female[\"Salary\"])"
   ]
  },
  {
   "cell_type": "markdown",
   "id": "bfaa6712",
   "metadata": {},
   "source": [
    "# Multi-variate anaysis "
   ]
  },
  {
   "cell_type": "code",
   "execution_count": 32,
   "id": "3c1e8c14",
   "metadata": {},
   "outputs": [],
   "source": [
    "# effect of grade and gender on salary "
   ]
  },
  {
   "cell_type": "code",
   "execution_count": 33,
   "id": "1c7b995e",
   "metadata": {},
   "outputs": [
    {
     "data": {
      "text/html": [
       "<div>\n",
       "<style scoped>\n",
       "    .dataframe tbody tr th:only-of-type {\n",
       "        vertical-align: middle;\n",
       "    }\n",
       "\n",
       "    .dataframe tbody tr th {\n",
       "        vertical-align: top;\n",
       "    }\n",
       "\n",
       "    .dataframe thead tr th {\n",
       "        text-align: left;\n",
       "    }\n",
       "\n",
       "    .dataframe thead tr:last-of-type th {\n",
       "        text-align: right;\n",
       "    }\n",
       "</style>\n",
       "<table border=\"1\" class=\"dataframe\">\n",
       "  <thead>\n",
       "    <tr>\n",
       "      <th></th>\n",
       "      <th colspan=\"2\" halign=\"left\">Salary</th>\n",
       "    </tr>\n",
       "    <tr>\n",
       "      <th>Gender</th>\n",
       "      <th>Female</th>\n",
       "      <th>Male</th>\n",
       "    </tr>\n",
       "    <tr>\n",
       "      <th>Grade</th>\n",
       "      <th></th>\n",
       "      <th></th>\n",
       "    </tr>\n",
       "  </thead>\n",
       "  <tbody>\n",
       "    <tr>\n",
       "      <th>1</th>\n",
       "      <td>32649.166667</td>\n",
       "      <td>31079.166667</td>\n",
       "    </tr>\n",
       "    <tr>\n",
       "      <th>2</th>\n",
       "      <td>34865.172414</td>\n",
       "      <td>34216.923077</td>\n",
       "    </tr>\n",
       "    <tr>\n",
       "      <th>3</th>\n",
       "      <td>38535.555556</td>\n",
       "      <td>39328.571429</td>\n",
       "    </tr>\n",
       "    <tr>\n",
       "      <th>4</th>\n",
       "      <td>44350.588235</td>\n",
       "      <td>43845.454545</td>\n",
       "    </tr>\n",
       "    <tr>\n",
       "      <th>5</th>\n",
       "      <td>51100.000000</td>\n",
       "      <td>49750.000000</td>\n",
       "    </tr>\n",
       "    <tr>\n",
       "      <th>6</th>\n",
       "      <td>30000.000000</td>\n",
       "      <td>70923.076923</td>\n",
       "    </tr>\n",
       "  </tbody>\n",
       "</table>\n",
       "</div>"
      ],
      "text/plain": [
       "              Salary              \n",
       "Gender        Female          Male\n",
       "Grade                             \n",
       "1       32649.166667  31079.166667\n",
       "2       34865.172414  34216.923077\n",
       "3       38535.555556  39328.571429\n",
       "4       44350.588235  43845.454545\n",
       "5       51100.000000  49750.000000\n",
       "6       30000.000000  70923.076923"
      ]
     },
     "execution_count": 33,
     "metadata": {},
     "output_type": "execute_result"
    }
   ],
   "source": [
    "df.pivot_table(index=['Grade'],columns=[\"Gender\"], values=['Salary'], aggfunc=np.mean)"
   ]
  },
  {
   "cell_type": "code",
   "execution_count": 34,
   "id": "2096740c",
   "metadata": {},
   "outputs": [],
   "source": [
    "#  effect age and grade with avg salary on grade basis "
   ]
  },
  {
   "cell_type": "code",
   "execution_count": 35,
   "id": "160c07c4",
   "metadata": {},
   "outputs": [
    {
     "data": {
      "text/html": [
       "<div>\n",
       "<style scoped>\n",
       "    .dataframe tbody tr th:only-of-type {\n",
       "        vertical-align: middle;\n",
       "    }\n",
       "\n",
       "    .dataframe tbody tr th {\n",
       "        vertical-align: top;\n",
       "    }\n",
       "\n",
       "    .dataframe thead tr th {\n",
       "        text-align: left;\n",
       "    }\n",
       "\n",
       "    .dataframe thead tr:last-of-type th {\n",
       "        text-align: right;\n",
       "    }\n",
       "</style>\n",
       "<table border=\"1\" class=\"dataframe\">\n",
       "  <thead>\n",
       "    <tr>\n",
       "      <th></th>\n",
       "      <th colspan=\"2\" halign=\"left\">Age</th>\n",
       "      <th colspan=\"2\" halign=\"left\">Salary</th>\n",
       "    </tr>\n",
       "    <tr>\n",
       "      <th>Gender</th>\n",
       "      <th>Female</th>\n",
       "      <th>Male</th>\n",
       "      <th>Female</th>\n",
       "      <th>Male</th>\n",
       "    </tr>\n",
       "    <tr>\n",
       "      <th>Grade</th>\n",
       "      <th></th>\n",
       "      <th></th>\n",
       "      <th></th>\n",
       "      <th></th>\n",
       "    </tr>\n",
       "  </thead>\n",
       "  <tbody>\n",
       "    <tr>\n",
       "      <th>1</th>\n",
       "      <td>40.458333</td>\n",
       "      <td>35.833333</td>\n",
       "      <td>32649.166667</td>\n",
       "      <td>31079.166667</td>\n",
       "    </tr>\n",
       "    <tr>\n",
       "      <th>2</th>\n",
       "      <td>40.034483</td>\n",
       "      <td>32.538462</td>\n",
       "      <td>34865.172414</td>\n",
       "      <td>34216.923077</td>\n",
       "    </tr>\n",
       "    <tr>\n",
       "      <th>3</th>\n",
       "      <td>40.361111</td>\n",
       "      <td>33.571429</td>\n",
       "      <td>38535.555556</td>\n",
       "      <td>39328.571429</td>\n",
       "    </tr>\n",
       "    <tr>\n",
       "      <th>4</th>\n",
       "      <td>43.294118</td>\n",
       "      <td>36.000000</td>\n",
       "      <td>44350.588235</td>\n",
       "      <td>43845.454545</td>\n",
       "    </tr>\n",
       "    <tr>\n",
       "      <th>5</th>\n",
       "      <td>41.111111</td>\n",
       "      <td>39.666667</td>\n",
       "      <td>51100.000000</td>\n",
       "      <td>49750.000000</td>\n",
       "    </tr>\n",
       "    <tr>\n",
       "      <th>6</th>\n",
       "      <td>62.000000</td>\n",
       "      <td>55.230769</td>\n",
       "      <td>30000.000000</td>\n",
       "      <td>70923.076923</td>\n",
       "    </tr>\n",
       "  </tbody>\n",
       "</table>\n",
       "</div>"
      ],
      "text/plain": [
       "              Age                   Salary              \n",
       "Gender     Female       Male        Female          Male\n",
       "Grade                                                   \n",
       "1       40.458333  35.833333  32649.166667  31079.166667\n",
       "2       40.034483  32.538462  34865.172414  34216.923077\n",
       "3       40.361111  33.571429  38535.555556  39328.571429\n",
       "4       43.294118  36.000000  44350.588235  43845.454545\n",
       "5       41.111111  39.666667  51100.000000  49750.000000\n",
       "6       62.000000  55.230769  30000.000000  70923.076923"
      ]
     },
     "execution_count": 35,
     "metadata": {},
     "output_type": "execute_result"
    }
   ],
   "source": [
    "df.pivot_table(index=['Grade'],columns=[\"Gender\"], values=['Salary', \"Age\"], aggfunc=np.mean)"
   ]
  },
  {
   "cell_type": "markdown",
   "id": "5646f7d8",
   "metadata": {},
   "source": [
    "observation :\n",
    "* Men and women have similar level in average salaries across all education levels expect at level 6     where men have a very high average salary."
   ]
  },
  {
   "cell_type": "code",
   "execution_count": 36,
   "id": "e1131a9c",
   "metadata": {},
   "outputs": [],
   "source": [
    "# effect gender,education on salary"
   ]
  },
  {
   "cell_type": "code",
   "execution_count": 37,
   "id": "d6a45053",
   "metadata": {},
   "outputs": [
    {
     "data": {
      "text/html": [
       "<div>\n",
       "<style scoped>\n",
       "    .dataframe tbody tr th:only-of-type {\n",
       "        vertical-align: middle;\n",
       "    }\n",
       "\n",
       "    .dataframe tbody tr th {\n",
       "        vertical-align: top;\n",
       "    }\n",
       "\n",
       "    .dataframe thead tr th {\n",
       "        text-align: left;\n",
       "    }\n",
       "\n",
       "    .dataframe thead tr:last-of-type th {\n",
       "        text-align: right;\n",
       "    }\n",
       "</style>\n",
       "<table border=\"1\" class=\"dataframe\">\n",
       "  <thead>\n",
       "    <tr>\n",
       "      <th></th>\n",
       "      <th colspan=\"2\" halign=\"left\">Salary</th>\n",
       "    </tr>\n",
       "    <tr>\n",
       "      <th>Gender</th>\n",
       "      <th>Female</th>\n",
       "      <th>Male</th>\n",
       "    </tr>\n",
       "    <tr>\n",
       "      <th>Education</th>\n",
       "      <th></th>\n",
       "      <th></th>\n",
       "    </tr>\n",
       "  </thead>\n",
       "  <tbody>\n",
       "    <tr>\n",
       "      <th>1</th>\n",
       "      <td>35176.060606</td>\n",
       "      <td>39933.333333</td>\n",
       "    </tr>\n",
       "    <tr>\n",
       "      <th>2</th>\n",
       "      <td>35131.034483</td>\n",
       "      <td>31970.000000</td>\n",
       "    </tr>\n",
       "    <tr>\n",
       "      <th>3</th>\n",
       "      <td>36716.279070</td>\n",
       "      <td>39247.500000</td>\n",
       "    </tr>\n",
       "    <tr>\n",
       "      <th>4</th>\n",
       "      <td>39500.000000</td>\n",
       "      <td>44666.666667</td>\n",
       "    </tr>\n",
       "    <tr>\n",
       "      <th>5</th>\n",
       "      <td>41782.666667</td>\n",
       "      <td>51772.222222</td>\n",
       "    </tr>\n",
       "  </tbody>\n",
       "</table>\n",
       "</div>"
      ],
      "text/plain": [
       "                 Salary              \n",
       "Gender           Female          Male\n",
       "Education                            \n",
       "1          35176.060606  39933.333333\n",
       "2          35131.034483  31970.000000\n",
       "3          36716.279070  39247.500000\n",
       "4          39500.000000  44666.666667\n",
       "5          41782.666667  51772.222222"
      ]
     },
     "execution_count": 37,
     "metadata": {},
     "output_type": "execute_result"
    }
   ],
   "source": [
    "df.pivot_table(index=['Education'],columns=[\"Gender\"], values=['Salary'], aggfunc='mean')"
   ]
  },
  {
   "cell_type": "code",
   "execution_count": 38,
   "id": "825ef012",
   "metadata": {},
   "outputs": [
    {
     "data": {
      "text/html": [
       "<div>\n",
       "<style scoped>\n",
       "    .dataframe tbody tr th:only-of-type {\n",
       "        vertical-align: middle;\n",
       "    }\n",
       "\n",
       "    .dataframe tbody tr th {\n",
       "        vertical-align: top;\n",
       "    }\n",
       "\n",
       "    .dataframe thead th {\n",
       "        text-align: right;\n",
       "    }\n",
       "</style>\n",
       "<table border=\"1\" class=\"dataframe\">\n",
       "  <thead>\n",
       "    <tr style=\"text-align: right;\">\n",
       "      <th></th>\n",
       "      <th>Salary</th>\n",
       "    </tr>\n",
       "    <tr>\n",
       "      <th>Education</th>\n",
       "      <th></th>\n",
       "    </tr>\n",
       "  </thead>\n",
       "  <tbody>\n",
       "    <tr>\n",
       "      <th>1</th>\n",
       "      <td>35572.500000</td>\n",
       "    </tr>\n",
       "    <tr>\n",
       "      <th>2</th>\n",
       "      <td>34589.142857</td>\n",
       "    </tr>\n",
       "    <tr>\n",
       "      <th>3</th>\n",
       "      <td>37519.841270</td>\n",
       "    </tr>\n",
       "    <tr>\n",
       "      <th>4</th>\n",
       "      <td>41437.500000</td>\n",
       "    </tr>\n",
       "    <tr>\n",
       "      <th>5</th>\n",
       "      <td>47231.515152</td>\n",
       "    </tr>\n",
       "  </tbody>\n",
       "</table>\n",
       "</div>"
      ],
      "text/plain": [
       "                 Salary\n",
       "Education              \n",
       "1          35572.500000\n",
       "2          34589.142857\n",
       "3          37519.841270\n",
       "4          41437.500000\n",
       "5          47231.515152"
      ]
     },
     "execution_count": 38,
     "metadata": {},
     "output_type": "execute_result"
    }
   ],
   "source": [
    "df.pivot_table(index=['Education'], values=['Salary'], aggfunc='mean')"
   ]
  },
  {
   "cell_type": "markdown",
   "id": "eb3cd828",
   "metadata": {},
   "source": [
    "observation :\n",
    "* Male are having higher average salary than the overall average salary. whereas women average salary   is less than or equeal to the overall average salary"
   ]
  },
  {
   "cell_type": "code",
   "execution_count": 39,
   "id": "f1bdd8f6",
   "metadata": {},
   "outputs": [],
   "source": [
    "# effect gender,age,education on salary"
   ]
  },
  {
   "cell_type": "code",
   "execution_count": 40,
   "id": "b139b196",
   "metadata": {},
   "outputs": [
    {
     "data": {
      "text/html": [
       "<div>\n",
       "<style scoped>\n",
       "    .dataframe tbody tr th:only-of-type {\n",
       "        vertical-align: middle;\n",
       "    }\n",
       "\n",
       "    .dataframe tbody tr th {\n",
       "        vertical-align: top;\n",
       "    }\n",
       "\n",
       "    .dataframe thead tr th {\n",
       "        text-align: left;\n",
       "    }\n",
       "\n",
       "    .dataframe thead tr:last-of-type th {\n",
       "        text-align: right;\n",
       "    }\n",
       "</style>\n",
       "<table border=\"1\" class=\"dataframe\">\n",
       "  <thead>\n",
       "    <tr>\n",
       "      <th></th>\n",
       "      <th colspan=\"2\" halign=\"left\">Age</th>\n",
       "      <th colspan=\"2\" halign=\"left\">Salary</th>\n",
       "    </tr>\n",
       "    <tr>\n",
       "      <th>Gender</th>\n",
       "      <th>Female</th>\n",
       "      <th>Male</th>\n",
       "      <th>Female</th>\n",
       "      <th>Male</th>\n",
       "    </tr>\n",
       "    <tr>\n",
       "      <th>Education</th>\n",
       "      <th></th>\n",
       "      <th></th>\n",
       "      <th></th>\n",
       "      <th></th>\n",
       "    </tr>\n",
       "  </thead>\n",
       "  <tbody>\n",
       "    <tr>\n",
       "      <th>1</th>\n",
       "      <td>45.000000</td>\n",
       "      <td>55.333333</td>\n",
       "      <td>35176.060606</td>\n",
       "      <td>39933.333333</td>\n",
       "    </tr>\n",
       "    <tr>\n",
       "      <th>2</th>\n",
       "      <td>44.586207</td>\n",
       "      <td>38.166667</td>\n",
       "      <td>35131.034483</td>\n",
       "      <td>31970.000000</td>\n",
       "    </tr>\n",
       "    <tr>\n",
       "      <th>3</th>\n",
       "      <td>37.000000</td>\n",
       "      <td>35.150000</td>\n",
       "      <td>36716.279070</td>\n",
       "      <td>39247.500000</td>\n",
       "    </tr>\n",
       "    <tr>\n",
       "      <th>4</th>\n",
       "      <td>41.600000</td>\n",
       "      <td>41.000000</td>\n",
       "      <td>39500.000000</td>\n",
       "      <td>44666.666667</td>\n",
       "    </tr>\n",
       "    <tr>\n",
       "      <th>5</th>\n",
       "      <td>38.233333</td>\n",
       "      <td>40.472222</td>\n",
       "      <td>41782.666667</td>\n",
       "      <td>51772.222222</td>\n",
       "    </tr>\n",
       "  </tbody>\n",
       "</table>\n",
       "</div>"
      ],
      "text/plain": [
       "                 Age                   Salary              \n",
       "Gender        Female       Male        Female          Male\n",
       "Education                                                  \n",
       "1          45.000000  55.333333  35176.060606  39933.333333\n",
       "2          44.586207  38.166667  35131.034483  31970.000000\n",
       "3          37.000000  35.150000  36716.279070  39247.500000\n",
       "4          41.600000  41.000000  39500.000000  44666.666667\n",
       "5          38.233333  40.472222  41782.666667  51772.222222"
      ]
     },
     "execution_count": 40,
     "metadata": {},
     "output_type": "execute_result"
    }
   ],
   "source": [
    "df.pivot_table(index=['Education'],columns=[\"Gender\"], values=['Salary', \"Age\"], aggfunc=np.mean)"
   ]
  },
  {
   "cell_type": "markdown",
   "id": "6cb64cc0",
   "metadata": {},
   "source": [
    "# Statstical Apporach - t_statistics, f _statistics"
   ]
  },
  {
   "cell_type": "raw",
   "id": "263b7dfd",
   "metadata": {},
   "source": [
    "[Q-1]-Does the data provide evidence that there is discrimination against females in terms of salary?"
   ]
  },
  {
   "cell_type": "raw",
   "id": "fc358e24",
   "metadata": {},
   "source": [
    "h0:thier no gender discrimination on basis of Avg salary\n",
    "h1:thier is gender discrimination on basis of Avg salary"
   ]
  },
  {
   "cell_type": "code",
   "execution_count": 41,
   "id": "30cf3928",
   "metadata": {},
   "outputs": [
    {
     "name": "stdout",
     "output_type": "stream",
     "text": [
      "There is evidence of discrimination against females in terms of salary.\n"
     ]
    }
   ],
   "source": [
    "# Separate the salaries for males and females\n",
    "male_salaries = df[df['Gender'] == 'Male']['Salary']\n",
    "female_salaries = df[df['Gender'] == 'Female']['Salary']\n",
    "\n",
    "# Perform two-sample t-test\n",
    "t_statistic, p_value = stats.ttest_ind(male_salaries, female_salaries)\n",
    " \n",
    "# Define significance level\n",
    "alpha = 0.05\n",
    "\n",
    "# Check if the p-value is less than the significance level\n",
    "if p_value < alpha:\n",
    "    print(\"There is evidence of discrimination against females in terms of salary.\")\n",
    "else:\n",
    "    print(\"There is no evidence of discrimination against females in terms of salary.\")\n"
   ]
  },
  {
   "cell_type": "markdown",
   "id": "effcc39d",
   "metadata": {},
   "source": [
    "interpertation \n",
    "*this show that thier significant difference btwn avg salary of male and female \n"
   ]
  },
  {
   "cell_type": "code",
   "execution_count": 42,
   "id": "9fbb710c",
   "metadata": {},
   "outputs": [],
   "source": [
    "#interaction effect of age,gender on salary "
   ]
  },
  {
   "cell_type": "raw",
   "id": "d0541726",
   "metadata": {},
   "source": [
    "h0:thier no gender discrimination on basis of (salary+age)\n",
    "h1:thier is gender discrimination on basis of( salary+age)"
   ]
  },
  {
   "cell_type": "code",
   "execution_count": 43,
   "id": "cd2f1daf",
   "metadata": {},
   "outputs": [
    {
     "name": "stdout",
     "output_type": "stream",
     "text": [
      "There is evidence of a significant difference between groups.\n"
     ]
    }
   ],
   "source": [
    "a=pd.DataFrame(male_salaries)\n",
    "a[\"Age\"]=df.Age\n",
    "\n",
    "b=pd.DataFrame(female_salaries)\n",
    "b[\"Age\"]=df.Age\n",
    "\n",
    "import scipy.stats as stats\n",
    "\n",
    "# Perform ANOVA test\n",
    "f_statistic, p_value = stats.f_oneway(a,b) \n",
    "\n",
    "# Define significance level\n",
    "alpha = 0.05\n",
    "\n",
    "# Check if any of the p-values is less than the significance level\n",
    "if any(p < alpha for p in p_value):\n",
    "    print(\"There is evidence of a significant difference between groups.\")\n",
    "else:\n",
    "    print(\"There is no significant difference between groups.\")\n",
    "    \n"
   ]
  },
  {
   "cell_type": "code",
   "execution_count": 44,
   "id": "8952fda2",
   "metadata": {},
   "outputs": [],
   "source": [
    "#interaction effect of years1,gender on salary "
   ]
  },
  {
   "cell_type": "raw",
   "id": "be8d4b44",
   "metadata": {},
   "source": [
    "h0:thier no gender discrimination on basis of (years1+age)\n",
    "h1:thier is gender discrimination on basis of( years1+age)"
   ]
  },
  {
   "cell_type": "code",
   "execution_count": 45,
   "id": "d6ed11a1",
   "metadata": {},
   "outputs": [
    {
     "name": "stdout",
     "output_type": "stream",
     "text": [
      "There is evidence of a significant difference between groups.\n"
     ]
    }
   ],
   "source": [
    "a=pd.DataFrame(male_salaries)\n",
    "a[\"Years1\"]=df.Years1\n",
    "\n",
    "b=pd.DataFrame(female_salaries)\n",
    "b[\"Years1\"]=df.Years1\n",
    "\n",
    "import scipy.stats as stats\n",
    "\n",
    "# Perform ANOVA test\n",
    "f_statistic, p_value = stats.f_oneway(a,b) \n",
    "\n",
    "# Define significance level\n",
    "alpha = 0.05\n",
    "\n",
    "# Check if any of the p-values is less than the significance level\n",
    "if any(p < alpha for p in p_value):\n",
    "    print(\"There is evidence of a significant difference between groups.\")\n",
    "else:\n",
    "    print(\"There is no significant difference between groups.\")"
   ]
  },
  {
   "cell_type": "code",
   "execution_count": 46,
   "id": "eda35101",
   "metadata": {},
   "outputs": [],
   "source": [
    "#interaction effect of years2,gender on salary "
   ]
  },
  {
   "cell_type": "raw",
   "id": "3d80f130",
   "metadata": {},
   "source": [
    "h0:thier no gender discrimination on basis of (years2+age)\n",
    "h1:thier is gender discrimination on basis of( years2+age)"
   ]
  },
  {
   "cell_type": "code",
   "execution_count": 47,
   "id": "352259f9",
   "metadata": {},
   "outputs": [
    {
     "name": "stdout",
     "output_type": "stream",
     "text": [
      "There is evidence of a significant difference between groups.\n"
     ]
    }
   ],
   "source": [
    "a=pd.DataFrame(male_salaries)\n",
    "a[\"Years2\"]=df.Years2\n",
    "\n",
    "b=pd.DataFrame(female_salaries)\n",
    "b[\"Years2\"]=df.Years2\n",
    "\n",
    "import scipy.stats as stats\n",
    "\n",
    "# Perform ANOVA test\n",
    "f_statistic, p_value = stats.f_oneway(a,b) \n",
    "\n",
    "# Define significance level\n",
    "alpha = 0.05\n",
    "\n",
    "# Check if any of the p-values is less than the significance level\n",
    "if any(p < alpha for p in p_value):\n",
    "    print(\"There is evidence of a significant difference between groups.\")\n",
    "else:\n",
    "    print(\"There is no significant difference between groups.\")"
   ]
  },
  {
   "cell_type": "markdown",
   "id": "537c0462",
   "metadata": {},
   "source": [
    "over all observation :\n",
    "* thier  is strong evidence of dicrimination on basis of gender "
   ]
  },
  {
   "cell_type": "markdown",
   "id": "c5383223",
   "metadata": {},
   "source": [
    "# Algorithmic approach- Linear regression model"
   ]
  },
  {
   "cell_type": "raw",
   "id": "c196231e",
   "metadata": {},
   "source": [
    "[Q2]- Using a Regression model, what insights can you obtain about the gender differences if any?"
   ]
  },
  {
   "cell_type": "code",
   "execution_count": 48,
   "id": "37aede59",
   "metadata": {},
   "outputs": [
    {
     "name": "stdout",
     "output_type": "stream",
     "text": [
      "<class 'pandas.core.frame.DataFrame'>\n",
      "RangeIndex: 208 entries, 0 to 207\n",
      "Data columns (total 8 columns):\n",
      " #   Column     Non-Null Count  Dtype \n",
      "---  ------     --------------  ----- \n",
      " 0   Education  208 non-null    int64 \n",
      " 1   Grade      208 non-null    int64 \n",
      " 2   Years1     208 non-null    int64 \n",
      " 3   Years2     208 non-null    int64 \n",
      " 4   Age        208 non-null    int64 \n",
      " 5   Gender     208 non-null    object\n",
      " 6   PC Job     208 non-null    object\n",
      " 7   Salary     208 non-null    int64 \n",
      "dtypes: int64(6), object(2)\n",
      "memory usage: 13.1+ KB\n"
     ]
    }
   ],
   "source": [
    "#columns info of dataset \n",
    "df.info()"
   ]
  },
  {
   "cell_type": "code",
   "execution_count": 49,
   "id": "030c61b4",
   "metadata": {},
   "outputs": [
    {
     "data": {
      "text/html": [
       "<div>\n",
       "<style scoped>\n",
       "    .dataframe tbody tr th:only-of-type {\n",
       "        vertical-align: middle;\n",
       "    }\n",
       "\n",
       "    .dataframe tbody tr th {\n",
       "        vertical-align: top;\n",
       "    }\n",
       "\n",
       "    .dataframe thead th {\n",
       "        text-align: right;\n",
       "    }\n",
       "</style>\n",
       "<table border=\"1\" class=\"dataframe\">\n",
       "  <thead>\n",
       "    <tr style=\"text-align: right;\">\n",
       "      <th></th>\n",
       "      <th>Years1</th>\n",
       "      <th>Years2</th>\n",
       "      <th>Age</th>\n",
       "      <th>Gender</th>\n",
       "      <th>Salary</th>\n",
       "      <th>Education_1</th>\n",
       "      <th>Education_2</th>\n",
       "      <th>Education_3</th>\n",
       "      <th>Education_4</th>\n",
       "      <th>Education_5</th>\n",
       "      <th>Grade_1</th>\n",
       "      <th>Grade_2</th>\n",
       "      <th>Grade_3</th>\n",
       "      <th>Grade_4</th>\n",
       "      <th>Grade_5</th>\n",
       "      <th>Grade_6</th>\n",
       "      <th>PC Job_No</th>\n",
       "      <th>PC Job_Yes</th>\n",
       "    </tr>\n",
       "  </thead>\n",
       "  <tbody>\n",
       "    <tr>\n",
       "      <th>0</th>\n",
       "      <td>3</td>\n",
       "      <td>1</td>\n",
       "      <td>26</td>\n",
       "      <td>0</td>\n",
       "      <td>32000</td>\n",
       "      <td>0</td>\n",
       "      <td>0</td>\n",
       "      <td>1</td>\n",
       "      <td>0</td>\n",
       "      <td>0</td>\n",
       "      <td>1</td>\n",
       "      <td>0</td>\n",
       "      <td>0</td>\n",
       "      <td>0</td>\n",
       "      <td>0</td>\n",
       "      <td>0</td>\n",
       "      <td>1</td>\n",
       "      <td>0</td>\n",
       "    </tr>\n",
       "    <tr>\n",
       "      <th>1</th>\n",
       "      <td>14</td>\n",
       "      <td>1</td>\n",
       "      <td>38</td>\n",
       "      <td>1</td>\n",
       "      <td>39100</td>\n",
       "      <td>1</td>\n",
       "      <td>0</td>\n",
       "      <td>0</td>\n",
       "      <td>0</td>\n",
       "      <td>0</td>\n",
       "      <td>1</td>\n",
       "      <td>0</td>\n",
       "      <td>0</td>\n",
       "      <td>0</td>\n",
       "      <td>0</td>\n",
       "      <td>0</td>\n",
       "      <td>1</td>\n",
       "      <td>0</td>\n",
       "    </tr>\n",
       "    <tr>\n",
       "      <th>2</th>\n",
       "      <td>12</td>\n",
       "      <td>0</td>\n",
       "      <td>35</td>\n",
       "      <td>1</td>\n",
       "      <td>33200</td>\n",
       "      <td>1</td>\n",
       "      <td>0</td>\n",
       "      <td>0</td>\n",
       "      <td>0</td>\n",
       "      <td>0</td>\n",
       "      <td>1</td>\n",
       "      <td>0</td>\n",
       "      <td>0</td>\n",
       "      <td>0</td>\n",
       "      <td>0</td>\n",
       "      <td>0</td>\n",
       "      <td>1</td>\n",
       "      <td>0</td>\n",
       "    </tr>\n",
       "    <tr>\n",
       "      <th>3</th>\n",
       "      <td>8</td>\n",
       "      <td>7</td>\n",
       "      <td>40</td>\n",
       "      <td>1</td>\n",
       "      <td>30600</td>\n",
       "      <td>0</td>\n",
       "      <td>1</td>\n",
       "      <td>0</td>\n",
       "      <td>0</td>\n",
       "      <td>0</td>\n",
       "      <td>1</td>\n",
       "      <td>0</td>\n",
       "      <td>0</td>\n",
       "      <td>0</td>\n",
       "      <td>0</td>\n",
       "      <td>0</td>\n",
       "      <td>1</td>\n",
       "      <td>0</td>\n",
       "    </tr>\n",
       "    <tr>\n",
       "      <th>4</th>\n",
       "      <td>3</td>\n",
       "      <td>0</td>\n",
       "      <td>28</td>\n",
       "      <td>0</td>\n",
       "      <td>29000</td>\n",
       "      <td>0</td>\n",
       "      <td>0</td>\n",
       "      <td>1</td>\n",
       "      <td>0</td>\n",
       "      <td>0</td>\n",
       "      <td>1</td>\n",
       "      <td>0</td>\n",
       "      <td>0</td>\n",
       "      <td>0</td>\n",
       "      <td>0</td>\n",
       "      <td>0</td>\n",
       "      <td>1</td>\n",
       "      <td>0</td>\n",
       "    </tr>\n",
       "    <tr>\n",
       "      <th>...</th>\n",
       "      <td>...</td>\n",
       "      <td>...</td>\n",
       "      <td>...</td>\n",
       "      <td>...</td>\n",
       "      <td>...</td>\n",
       "      <td>...</td>\n",
       "      <td>...</td>\n",
       "      <td>...</td>\n",
       "      <td>...</td>\n",
       "      <td>...</td>\n",
       "      <td>...</td>\n",
       "      <td>...</td>\n",
       "      <td>...</td>\n",
       "      <td>...</td>\n",
       "      <td>...</td>\n",
       "      <td>...</td>\n",
       "      <td>...</td>\n",
       "      <td>...</td>\n",
       "    </tr>\n",
       "    <tr>\n",
       "      <th>203</th>\n",
       "      <td>34</td>\n",
       "      <td>0</td>\n",
       "      <td>60</td>\n",
       "      <td>0</td>\n",
       "      <td>95000</td>\n",
       "      <td>0</td>\n",
       "      <td>0</td>\n",
       "      <td>1</td>\n",
       "      <td>0</td>\n",
       "      <td>0</td>\n",
       "      <td>0</td>\n",
       "      <td>0</td>\n",
       "      <td>0</td>\n",
       "      <td>0</td>\n",
       "      <td>0</td>\n",
       "      <td>1</td>\n",
       "      <td>1</td>\n",
       "      <td>0</td>\n",
       "    </tr>\n",
       "    <tr>\n",
       "      <th>204</th>\n",
       "      <td>36</td>\n",
       "      <td>0</td>\n",
       "      <td>61</td>\n",
       "      <td>0</td>\n",
       "      <td>97000</td>\n",
       "      <td>0</td>\n",
       "      <td>0</td>\n",
       "      <td>0</td>\n",
       "      <td>0</td>\n",
       "      <td>1</td>\n",
       "      <td>0</td>\n",
       "      <td>0</td>\n",
       "      <td>0</td>\n",
       "      <td>0</td>\n",
       "      <td>0</td>\n",
       "      <td>1</td>\n",
       "      <td>1</td>\n",
       "      <td>0</td>\n",
       "    </tr>\n",
       "    <tr>\n",
       "      <th>205</th>\n",
       "      <td>32</td>\n",
       "      <td>0</td>\n",
       "      <td>62</td>\n",
       "      <td>0</td>\n",
       "      <td>88000</td>\n",
       "      <td>0</td>\n",
       "      <td>0</td>\n",
       "      <td>0</td>\n",
       "      <td>0</td>\n",
       "      <td>1</td>\n",
       "      <td>0</td>\n",
       "      <td>0</td>\n",
       "      <td>0</td>\n",
       "      <td>0</td>\n",
       "      <td>0</td>\n",
       "      <td>1</td>\n",
       "      <td>1</td>\n",
       "      <td>0</td>\n",
       "    </tr>\n",
       "    <tr>\n",
       "      <th>206</th>\n",
       "      <td>35</td>\n",
       "      <td>0</td>\n",
       "      <td>59</td>\n",
       "      <td>0</td>\n",
       "      <td>94000</td>\n",
       "      <td>0</td>\n",
       "      <td>0</td>\n",
       "      <td>0</td>\n",
       "      <td>0</td>\n",
       "      <td>1</td>\n",
       "      <td>0</td>\n",
       "      <td>0</td>\n",
       "      <td>0</td>\n",
       "      <td>0</td>\n",
       "      <td>0</td>\n",
       "      <td>1</td>\n",
       "      <td>1</td>\n",
       "      <td>0</td>\n",
       "    </tr>\n",
       "    <tr>\n",
       "      <th>207</th>\n",
       "      <td>33</td>\n",
       "      <td>0</td>\n",
       "      <td>62</td>\n",
       "      <td>1</td>\n",
       "      <td>30000</td>\n",
       "      <td>0</td>\n",
       "      <td>0</td>\n",
       "      <td>0</td>\n",
       "      <td>0</td>\n",
       "      <td>1</td>\n",
       "      <td>0</td>\n",
       "      <td>0</td>\n",
       "      <td>0</td>\n",
       "      <td>0</td>\n",
       "      <td>0</td>\n",
       "      <td>1</td>\n",
       "      <td>1</td>\n",
       "      <td>0</td>\n",
       "    </tr>\n",
       "  </tbody>\n",
       "</table>\n",
       "<p>208 rows × 18 columns</p>\n",
       "</div>"
      ],
      "text/plain": [
       "     Years1  Years2  Age  Gender  Salary  Education_1  Education_2  \\\n",
       "0         3       1   26       0   32000            0            0   \n",
       "1        14       1   38       1   39100            1            0   \n",
       "2        12       0   35       1   33200            1            0   \n",
       "3         8       7   40       1   30600            0            1   \n",
       "4         3       0   28       0   29000            0            0   \n",
       "..      ...     ...  ...     ...     ...          ...          ...   \n",
       "203      34       0   60       0   95000            0            0   \n",
       "204      36       0   61       0   97000            0            0   \n",
       "205      32       0   62       0   88000            0            0   \n",
       "206      35       0   59       0   94000            0            0   \n",
       "207      33       0   62       1   30000            0            0   \n",
       "\n",
       "     Education_3  Education_4  Education_5  Grade_1  Grade_2  Grade_3  \\\n",
       "0              1            0            0        1        0        0   \n",
       "1              0            0            0        1        0        0   \n",
       "2              0            0            0        1        0        0   \n",
       "3              0            0            0        1        0        0   \n",
       "4              1            0            0        1        0        0   \n",
       "..           ...          ...          ...      ...      ...      ...   \n",
       "203            1            0            0        0        0        0   \n",
       "204            0            0            1        0        0        0   \n",
       "205            0            0            1        0        0        0   \n",
       "206            0            0            1        0        0        0   \n",
       "207            0            0            1        0        0        0   \n",
       "\n",
       "     Grade_4  Grade_5  Grade_6  PC Job_No  PC Job_Yes  \n",
       "0          0        0        0          1           0  \n",
       "1          0        0        0          1           0  \n",
       "2          0        0        0          1           0  \n",
       "3          0        0        0          1           0  \n",
       "4          0        0        0          1           0  \n",
       "..       ...      ...      ...        ...         ...  \n",
       "203        0        0        1          1           0  \n",
       "204        0        0        1          1           0  \n",
       "205        0        0        1          1           0  \n",
       "206        0        0        1          1           0  \n",
       "207        0        0        1          1           0  \n",
       "\n",
       "[208 rows x 18 columns]"
      ]
     },
     "execution_count": 49,
     "metadata": {},
     "output_type": "execute_result"
    }
   ],
   "source": [
    "# Perform one-hot encoding\n",
    "df_encoded=pd.get_dummies(df,columns=['Education', 'Grade','PC Job'])\n",
    "\n",
    "# label encoding gender male as 0 , female as 1\n",
    "df_encoded[\"Gender\"].replace({\"Male\":0,\"Female\":1},inplace=True)\n",
    "df_encoded"
   ]
  },
  {
   "cell_type": "code",
   "execution_count": 50,
   "id": "5b9b3698",
   "metadata": {},
   "outputs": [
    {
     "data": {
      "text/plain": [
       "Index(['Years1', 'Years2', 'Age', 'Gender', 'Salary', 'Education_1',\n",
       "       'Education_2', 'Education_3', 'Education_4', 'Education_5', 'Grade_1',\n",
       "       'Grade_2', 'Grade_3', 'Grade_4', 'Grade_5', 'Grade_6', 'PC Job_No',\n",
       "       'PC Job_Yes'],\n",
       "      dtype='object')"
      ]
     },
     "execution_count": 50,
     "metadata": {},
     "output_type": "execute_result"
    }
   ],
   "source": [
    "df_encoded.columns"
   ]
  },
  {
   "cell_type": "code",
   "execution_count": 51,
   "id": "840cff1f",
   "metadata": {},
   "outputs": [
    {
     "name": "stdout",
     "output_type": "stream",
     "text": [
      "                            OLS Regression Results                            \n",
      "==============================================================================\n",
      "Dep. Variable:                 Salary   R-squared:                       0.765\n",
      "Model:                            OLS   Adj. R-squared:                  0.748\n",
      "Method:                 Least Squares   F-statistic:                     44.94\n",
      "Date:                Thu, 29 Jun 2023   Prob (F-statistic):           5.21e-53\n",
      "Time:                        17:29:05   Log-Likelihood:                -2084.3\n",
      "No. Observations:                 208   AIC:                             4199.\n",
      "Df Residuals:                     193   BIC:                             4249.\n",
      "Df Model:                          14                                         \n",
      "Covariance Type:            nonrobust                                         \n",
      "===============================================================================\n",
      "                  coef    std err          t      P>|t|      [0.025      0.975]\n",
      "-------------------------------------------------------------------------------\n",
      "const        2.227e+04   1281.001     17.383      0.000    1.97e+04    2.48e+04\n",
      "Years1        515.5827     97.980      5.262      0.000     322.334     708.832\n",
      "Years2        167.7270    140.442      1.194      0.234    -109.272     444.726\n",
      "Age            -8.9621     57.699     -0.155      0.877    -122.763     104.839\n",
      "Gender      -2554.4740   1011.974     -2.524      0.012   -4550.423    -558.525\n",
      "Education_1  3849.9151   1166.514      3.300      0.001    1549.163    6150.668\n",
      "Education_2  3364.3627   1117.904      3.010      0.003    1159.485    5569.241\n",
      "Education_3  4377.8300    751.726      5.824      0.000    2895.177    5860.483\n",
      "Education_4  4135.0909   1724.458      2.398      0.017     733.888    7536.294\n",
      "Education_5  6540.7157    872.521      7.496      0.000    4819.815    8261.616\n",
      "Grade_1     -5100.4288   1030.579     -4.949      0.000   -7133.073   -3067.785\n",
      "Grade_2     -3535.9323    983.044     -3.597      0.000   -5474.821   -1597.043\n",
      "Grade_3       118.9293    953.358      0.125      0.901   -1761.409    1999.268\n",
      "Grade_4      3494.4040   1002.389      3.486      0.001    1517.361    5471.447\n",
      "Grade_5      8558.9803   1243.702      6.882      0.000    6105.988     1.1e+04\n",
      "Grade_6      1.873e+04   2097.609      8.930      0.000    1.46e+04    2.29e+04\n",
      "PC Job_No    8672.5344    787.371     11.015      0.000    7119.578    1.02e+04\n",
      "PC Job_Yes    1.36e+04   1134.288     11.986      0.000    1.14e+04    1.58e+04\n",
      "==============================================================================\n",
      "Omnibus:                       80.603   Durbin-Watson:                   1.585\n",
      "Prob(Omnibus):                  0.000   Jarque-Bera (JB):             2443.188\n",
      "Skew:                          -0.753   Prob(JB):                         0.00\n",
      "Kurtosis:                      19.722   Cond. No.                     1.03e+18\n",
      "==============================================================================\n",
      "\n",
      "Notes:\n",
      "[1] Standard Errors assume that the covariance matrix of the errors is correctly specified.\n",
      "[2] The smallest eigenvalue is 3.66e-31. This might indicate that there are\n",
      "strong multicollinearity problems or that the design matrix is singular.\n"
     ]
    }
   ],
   "source": [
    "# Define the dependent and independent variables\n",
    "x = df_encoded.drop(['Salary'], axis=1)\n",
    "y = df_encoded['Salary']\n",
    "\n",
    "# Add constant to the independent variable matrix\n",
    "x = sm.add_constant(x)\n",
    "\n",
    "# Fit the OLS model\n",
    "model = sm.OLS(y, x).fit()\n",
    "\n",
    "# Get the model summary\n",
    "print(model.summary())"
   ]
  },
  {
   "cell_type": "code",
   "execution_count": 52,
   "id": "2029a96b",
   "metadata": {},
   "outputs": [],
   "source": [
    "#after removing insignificant features i.e (years2, age ,grade3) and executing the model "
   ]
  },
  {
   "cell_type": "code",
   "execution_count": 53,
   "id": "9fe4eaff",
   "metadata": {},
   "outputs": [
    {
     "name": "stdout",
     "output_type": "stream",
     "text": [
      "                            OLS Regression Results                            \n",
      "==============================================================================\n",
      "Dep. Variable:                 Salary   R-squared:                       0.763\n",
      "Model:                            OLS   Adj. R-squared:                  0.749\n",
      "Method:                 Least Squares   F-statistic:                     52.46\n",
      "Date:                Thu, 29 Jun 2023   Prob (F-statistic):           2.01e-54\n",
      "Time:                        17:29:05   Log-Likelihood:                -2085.1\n",
      "No. Observations:                 208   AIC:                             4196.\n",
      "Df Residuals:                     195   BIC:                             4240.\n",
      "Df Model:                          12                                         \n",
      "Covariance Type:            nonrobust                                         \n",
      "===============================================================================\n",
      "                  coef    std err          t      P>|t|      [0.025      0.975]\n",
      "-------------------------------------------------------------------------------\n",
      "const        2.261e+04    906.915     24.928      0.000    2.08e+04    2.44e+04\n",
      "Years1        498.3898     83.766      5.950      0.000     333.187     663.593\n",
      "Gender      -2601.6586   1008.575     -2.580      0.011   -4590.774    -612.544\n",
      "Education_1  3957.9863   1100.754      3.596      0.000    1787.075    6128.898\n",
      "Education_2  3786.3538   1014.804      3.731      0.000    1784.953    5787.755\n",
      "Education_3  4412.5929    750.002      5.883      0.000    2933.436    5891.750\n",
      "Education_4  4004.4912   1700.983      2.354      0.020     649.807    7359.176\n",
      "Education_5  6446.4877    887.203      7.266      0.000    4696.742    8196.234\n",
      "Grade_1     -5462.7450   1242.443     -4.397      0.000   -7913.096   -3012.394\n",
      "Grade_2     -3773.8074   1278.504     -2.952      0.004   -6295.277   -1252.337\n",
      "Grade_4      3325.5500   1437.690      2.313      0.022     490.132    6160.968\n",
      "Grade_5      8574.6052   1701.639      5.039      0.000    5218.626    1.19e+04\n",
      "Grade_6      1.845e+04   2602.524      7.087      0.000    1.33e+04    2.36e+04\n",
      "PC Job_No    8691.6516    650.483     13.362      0.000    7408.766    9974.538\n",
      "PC Job_Yes   1.392e+04   1017.888     13.672      0.000    1.19e+04    1.59e+04\n",
      "==============================================================================\n",
      "Omnibus:                       78.568   Durbin-Watson:                   1.581\n",
      "Prob(Omnibus):                  0.000   Jarque-Bera (JB):             2334.133\n",
      "Skew:                          -0.716   Prob(JB):                         0.00\n",
      "Kurtosis:                      19.348   Cond. No.                     3.06e+17\n",
      "==============================================================================\n",
      "\n",
      "Notes:\n",
      "[1] Standard Errors assume that the covariance matrix of the errors is correctly specified.\n",
      "[2] The smallest eigenvalue is 3.2e-31. This might indicate that there are\n",
      "strong multicollinearity problems or that the design matrix is singular.\n"
     ]
    }
   ],
   "source": [
    "# Define the dependent and independent variables\n",
    "x = df_encoded.drop(['Salary','Years2',\"Age\",'Grade_3'], axis=1)\n",
    "y = df_encoded['Salary']\n",
    "\n",
    "# Add constant to the independent variable matrix\n",
    "x = sm.add_constant(x)\n",
    "\n",
    "# Fit the OLS model\n",
    "model = sm.OLS(y, x).fit()\n",
    "\n",
    "# Get the model summaryL\n",
    "print(model.summary())"
   ]
  },
  {
   "cell_type": "code",
   "execution_count": 54,
   "id": "ce4dbe32",
   "metadata": {},
   "outputs": [],
   "source": [
    "#selecting  on the basis of EDA "
   ]
  },
  {
   "cell_type": "code",
   "execution_count": 55,
   "id": "5c30ff3b",
   "metadata": {},
   "outputs": [
    {
     "name": "stdout",
     "output_type": "stream",
     "text": [
      "                            OLS Regression Results                            \n",
      "==============================================================================\n",
      "Dep. Variable:                 Salary   R-squared:                       0.748\n",
      "Model:                            OLS   Adj. R-squared:                  0.732\n",
      "Method:                 Least Squares   F-statistic:                     48.21\n",
      "Date:                Thu, 29 Jun 2023   Prob (F-statistic):           9.07e-52\n",
      "Time:                        17:29:05   Log-Likelihood:                -2091.7\n",
      "No. Observations:                 208   AIC:                             4209.\n",
      "Df Residuals:                     195   BIC:                             4253.\n",
      "Df Model:                          12                                         \n",
      "Covariance Type:            nonrobust                                         \n",
      "===============================================================================\n",
      "                  coef    std err          t      P>|t|      [0.025      0.975]\n",
      "-------------------------------------------------------------------------------\n",
      "const        2.828e+04   1687.072     16.764      0.000     2.5e+04    3.16e+04\n",
      "Years1        453.8924     98.246      4.620      0.000     260.131     647.654\n",
      "Age            24.3390     57.394      0.424      0.672     -88.853     137.531\n",
      "Gender      -1757.3997   1013.021     -1.735      0.084   -3755.284     240.485\n",
      "Education_1  4987.1516   1244.952      4.006      0.000    2531.853    7442.450\n",
      "Education_2  4273.2388   1122.479      3.807      0.000    2059.481    6486.997\n",
      "Education_3  5902.6512    778.889      7.578      0.000    4366.523    7438.779\n",
      "Education_4  5344.0851   1791.243      2.983      0.003    1811.389    8876.781\n",
      "Education_5  7774.6930    876.993      8.865      0.000    6045.084    9504.302\n",
      "Grade_1     -4434.1568   1036.354     -4.279      0.000   -6478.058   -2390.255\n",
      "Grade_2     -2199.6333   1003.926     -2.191      0.030   -4179.579    -219.687\n",
      "Grade_3      1095.5800    980.822      1.117      0.265    -838.801    3029.960\n",
      "Grade_4      4621.4528   1047.100      4.414      0.000    2556.357    6686.548\n",
      "Grade_5      9391.8506   1276.795      7.356      0.000    6873.750    1.19e+04\n",
      "Grade_6      1.981e+04   2196.640      9.017      0.000    1.55e+04    2.41e+04\n",
      "==============================================================================\n",
      "Omnibus:                       74.438   Durbin-Watson:                   1.634\n",
      "Prob(Omnibus):                  0.000   Jarque-Bera (JB):             1979.311\n",
      "Skew:                          -0.668   Prob(JB):                         0.00\n",
      "Kurtosis:                      18.053   Cond. No.                     6.33e+17\n",
      "==============================================================================\n",
      "\n",
      "Notes:\n",
      "[1] Standard Errors assume that the covariance matrix of the errors is correctly specified.\n",
      "[2] The smallest eigenvalue is 9.6e-31. This might indicate that there are\n",
      "strong multicollinearity problems or that the design matrix is singular.\n"
     ]
    }
   ],
   "source": [
    "# Define the dependent and independent variables\n",
    "x = df_encoded.drop([ \"PC Job_No\", \"PC Job_Yes\", \"Years2\", \"Salary\"], axis=1)\n",
    "y = df_encoded['Salary']\n",
    "\n",
    "# Add constant to the independent variable matrix\n",
    "x = sm.add_constant(x)\n",
    "\n",
    "# Fit the OLS model\n",
    "model = sm.OLS(y, x).fit()\n",
    "\n",
    "# Get the model summary\n",
    "print(model.summary())"
   ]
  },
  {
   "cell_type": "code",
   "execution_count": 56,
   "id": "521e0426",
   "metadata": {},
   "outputs": [],
   "source": [
    "# trying observation impact gender and salary as feature and label "
   ]
  },
  {
   "cell_type": "code",
   "execution_count": 57,
   "id": "5a274ba0",
   "metadata": {},
   "outputs": [
    {
     "name": "stdout",
     "output_type": "stream",
     "text": [
      "                            OLS Regression Results                            \n",
      "==============================================================================\n",
      "Dep. Variable:                 Salary   R-squared:                       0.120\n",
      "Model:                            OLS   Adj. R-squared:                  0.116\n",
      "Method:                 Least Squares   F-statistic:                     28.12\n",
      "Date:                Thu, 29 Jun 2023   Prob (F-statistic):           2.94e-07\n",
      "Time:                        17:29:05   Log-Likelihood:                -2221.7\n",
      "No. Observations:                 208   AIC:                             4447.\n",
      "Df Residuals:                     206   BIC:                             4454.\n",
      "Df Model:                           1                                         \n",
      "Covariance Type:            nonrobust                                         \n",
      "==============================================================================\n",
      "                 coef    std err          t      P>|t|      [0.025      0.975]\n",
      "------------------------------------------------------------------------------\n",
      "const       4.551e+04   1283.530     35.453      0.000     4.3e+04     4.8e+04\n",
      "Gender     -8295.5126   1564.493     -5.302      0.000   -1.14e+04   -5211.041\n",
      "==============================================================================\n",
      "Omnibus:                      106.281   Durbin-Watson:                   0.631\n",
      "Prob(Omnibus):                  0.000   Jarque-Bera (JB):              541.694\n",
      "Skew:                           1.985   Prob(JB):                    2.36e-118\n",
      "Kurtosis:                       9.837   Cond. No.                         3.26\n",
      "==============================================================================\n",
      "\n",
      "Notes:\n",
      "[1] Standard Errors assume that the covariance matrix of the errors is correctly specified.\n"
     ]
    }
   ],
   "source": [
    "# Define the dependent and independent variables\n",
    "x = df_encoded['Gender']\n",
    "y = df_encoded['Salary']\n",
    "\n",
    "# Add constant to the indepen dent variable matrix\n",
    "x = sm.add_constant(x)\n",
    "\n",
    "# Fit the OLS model\n",
    "model = sm.OLS(y, x).fit()\n",
    "\n",
    "# Get the model summary\n",
    "print(model.summary())"
   ]
  },
  {
   "cell_type": "code",
   "execution_count": 58,
   "id": "2e59ea81",
   "metadata": {},
   "outputs": [],
   "source": [
    "# trying observation impact (gender+grade) on salary as feature and label "
   ]
  },
  {
   "cell_type": "code",
   "execution_count": 59,
   "id": "2f919f7a",
   "metadata": {},
   "outputs": [
    {
     "name": "stdout",
     "output_type": "stream",
     "text": [
      "                            OLS Regression Results                            \n",
      "==============================================================================\n",
      "Dep. Variable:                 Salary   R-squared:                       0.705\n",
      "Model:                            OLS   Adj. R-squared:                  0.697\n",
      "Method:                 Least Squares   F-statistic:                     80.18\n",
      "Date:                Thu, 29 Jun 2023   Prob (F-statistic):           1.22e-50\n",
      "Time:                        17:29:05   Log-Likelihood:                -2107.9\n",
      "No. Observations:                 208   AIC:                             4230.\n",
      "Df Residuals:                     201   BIC:                             4253.\n",
      "Df Model:                           6                                         \n",
      "Covariance Type:            nonrobust                                         \n",
      "==============================================================================\n",
      "                 coef    std err          t      P>|t|      [0.025      0.975]\n",
      "------------------------------------------------------------------------------\n",
      "const       6.802e+04   1658.840     41.006      0.000    6.48e+04    7.13e+04\n",
      "Gender      -307.6427   1016.853     -0.303      0.763   -2312.711    1697.425\n",
      "Grade_1    -3.544e+04   1983.980    -17.863      0.000   -3.94e+04   -3.15e+04\n",
      "Grade_2    -3.315e+04   2014.500    -16.453      0.000   -3.71e+04   -2.92e+04\n",
      "Grade_3     -2.91e+04   2060.832    -14.120      0.000   -3.32e+04    -2.5e+04\n",
      "Grade_4    -2.368e+04   2101.536    -11.269      0.000   -2.78e+04   -1.95e+04\n",
      "Grade_5    -1.756e+04   2170.102     -8.093      0.000   -2.18e+04   -1.33e+04\n",
      "==============================================================================\n",
      "Omnibus:                       57.174   Durbin-Watson:                   1.316\n",
      "Prob(Omnibus):                  0.000   Jarque-Bera (JB):             1132.513\n",
      "Skew:                           0.365   Prob(JB):                    1.20e-246\n",
      "Kurtosis:                      14.408   Cond. No.                         13.4\n",
      "==============================================================================\n",
      "\n",
      "Notes:\n",
      "[1] Standard Errors assume that the covariance matrix of the errors is correctly specified.\n"
     ]
    }
   ],
   "source": [
    "# Define the dependent and independent variables\n",
    "x = df_encoded[['Gender','Grade_1', 'Grade_2', 'Grade_3', 'Grade_4', 'Grade_5']]\n",
    "y = df_encoded['Salary']\n",
    "\n",
    "# Add constant to the independent variable matrix\n",
    "x = sm.add_constant(x)\n",
    "\n",
    "# Fit the OLS model\n",
    "model = sm.OLS(y, x).fit()\n",
    "\n",
    "# Get the model summary\n",
    "print(model.summary())"
   ]
  },
  {
   "cell_type": "code",
   "execution_count": 60,
   "id": "0038ff88",
   "metadata": {},
   "outputs": [],
   "source": [
    "# trying observation impact (gender+education) on salary as feature and label "
   ]
  },
  {
   "cell_type": "code",
   "execution_count": 61,
   "id": "902d8ba9",
   "metadata": {},
   "outputs": [
    {
     "name": "stdout",
     "output_type": "stream",
     "text": [
      "                            OLS Regression Results                            \n",
      "==============================================================================\n",
      "Dep. Variable:                 Salary   R-squared:                       0.253\n",
      "Model:                            OLS   Adj. R-squared:                  0.235\n",
      "Method:                 Least Squares   F-statistic:                     13.71\n",
      "Date:                Thu, 29 Jun 2023   Prob (F-statistic):           1.57e-11\n",
      "Time:                        17:29:05   Log-Likelihood:                -2204.6\n",
      "No. Observations:                 208   AIC:                             4421.\n",
      "Df Residuals:                     202   BIC:                             4441.\n",
      "Df Model:                           5                                         \n",
      "Covariance Type:            nonrobust                                         \n",
      "===============================================================================\n",
      "                  coef    std err          t      P>|t|      [0.025      0.975]\n",
      "-------------------------------------------------------------------------------\n",
      "const        3.575e+04   1186.612     30.129      0.000    3.34e+04    3.81e+04\n",
      "Gender      -5177.2110   1564.342     -3.310      0.001   -8261.746   -2092.676\n",
      "Education_1  4566.8348   1623.836      2.812      0.005    1364.992    7768.678\n",
      "Education_2  3127.3900   1601.227      1.953      0.052     -29.872    6284.652\n",
      "Education_3  5302.0513   1273.224      4.164      0.000    2791.538    7812.565\n",
      "Education_4  8921.8149   2941.719      3.033      0.003    3121.400    1.47e+04\n",
      "Education_5  1.383e+04   1261.879     10.962      0.000    1.13e+04    1.63e+04\n",
      "==============================================================================\n",
      "Omnibus:                      124.357   Durbin-Watson:                   0.884\n",
      "Prob(Omnibus):                  0.000   Jarque-Bera (JB):              828.020\n",
      "Skew:                           2.288   Prob(JB):                    1.58e-180\n",
      "Kurtosis:                      11.638   Cond. No.                     1.26e+16\n",
      "==============================================================================\n",
      "\n",
      "Notes:\n",
      "[1] Standard Errors assume that the covariance matrix of the errors is correctly specified.\n",
      "[2] The smallest eigenvalue is 2.33e-30. This might indicate that there are\n",
      "strong multicollinearity problems or that the design matrix is singular.\n"
     ]
    }
   ],
   "source": [
    "# Define the dependent and independent variables\n",
    "x = df_encoded[['Gender','Education_1','Education_2', 'Education_3', 'Education_4', 'Education_5']]\n",
    "y = df_encoded['Salary']\n",
    "\n",
    "# Add constant to the independent variable matrix\n",
    "x = sm.add_constant(x)\n",
    "\n",
    "# Fit the OLS model\n",
    "model = sm.OLS(y, x).fit()\n",
    "\n",
    "# Get the model summary\n",
    "print(model.summary())"
   ]
  },
  {
   "cell_type": "code",
   "execution_count": 62,
   "id": "ecf58295",
   "metadata": {},
   "outputs": [],
   "source": [
    "# trying observation impact (gender+years1) on salary as feature and label "
   ]
  },
  {
   "cell_type": "code",
   "execution_count": 63,
   "id": "7d1c3da6",
   "metadata": {},
   "outputs": [
    {
     "name": "stdout",
     "output_type": "stream",
     "text": [
      "                            OLS Regression Results                            \n",
      "==============================================================================\n",
      "Dep. Variable:                 Salary   R-squared:                       0.491\n",
      "Model:                            OLS   Adj. R-squared:                  0.486\n",
      "Method:                 Least Squares   F-statistic:                     98.86\n",
      "Date:                Thu, 29 Jun 2023   Prob (F-statistic):           8.76e-31\n",
      "Time:                        17:29:05   Log-Likelihood:                -2164.8\n",
      "No. Observations:                 208   AIC:                             4336.\n",
      "Df Residuals:                     205   BIC:                             4346.\n",
      "Df Model:                           2                                         \n",
      "Covariance Type:            nonrobust                                         \n",
      "==============================================================================\n",
      "                 coef    std err          t      P>|t|      [0.025      0.975]\n",
      "------------------------------------------------------------------------------\n",
      "const       3.582e+04   1259.106     28.452      0.000    3.33e+04    3.83e+04\n",
      "Gender     -8011.8858   1193.089     -6.715      0.000   -1.04e+04   -5659.588\n",
      "Years1       981.1509     80.285     12.221      0.000     822.862    1139.440\n",
      "==============================================================================\n",
      "Omnibus:                       15.978   Durbin-Watson:                   1.288\n",
      "Prob(Omnibus):                  0.000   Jarque-Bera (JB):               25.267\n",
      "Skew:                           0.450   Prob(JB):                     3.26e-06\n",
      "Kurtosis:                       4.451   Cond. No.                         33.7\n",
      "==============================================================================\n",
      "\n",
      "Notes:\n",
      "[1] Standard Errors assume that the covariance matrix of the errors is correctly specified.\n"
     ]
    }
   ],
   "source": [
    "# Define the dependent and independent variables\n",
    "x = df_encoded[['Gender',\"Years1\"]]\n",
    "y = df_encoded['Salary']\n",
    "\n",
    "# Add constant to the independent variable matrix\n",
    "x = sm.add_constant(x)\n",
    "\n",
    "# Fit the OLS model\n",
    "model = sm.OLS(y, x).fit()\n",
    "\n",
    "# Get the model summary\n",
    "print(model.summary())"
   ]
  },
  {
   "cell_type": "code",
   "execution_count": 64,
   "id": "c6f95d3a",
   "metadata": {},
   "outputs": [],
   "source": [
    "# trying observation impact (gender+years2) on salary as feature and label "
   ]
  },
  {
   "cell_type": "code",
   "execution_count": 65,
   "id": "1de4ecd0",
   "metadata": {},
   "outputs": [
    {
     "name": "stdout",
     "output_type": "stream",
     "text": [
      "                            OLS Regression Results                            \n",
      "==============================================================================\n",
      "Dep. Variable:                 Salary   R-squared:                       0.121\n",
      "Model:                            OLS   Adj. R-squared:                  0.113\n",
      "Method:                 Least Squares   F-statistic:                     14.15\n",
      "Date:                Thu, 29 Jun 2023   Prob (F-statistic):           1.75e-06\n",
      "Time:                        17:29:05   Log-Likelihood:                -2221.6\n",
      "No. Observations:                 208   AIC:                             4449.\n",
      "Df Residuals:                     205   BIC:                             4459.\n",
      "Df Model:                           2                                         \n",
      "Covariance Type:            nonrobust                                         \n",
      "==============================================================================\n",
      "                 coef    std err          t      P>|t|      [0.025      0.975]\n",
      "------------------------------------------------------------------------------\n",
      "const       4.576e+04   1370.728     33.383      0.000    4.31e+04    4.85e+04\n",
      "Gender     -8228.1042   1572.290     -5.233      0.000   -1.13e+04   -5128.172\n",
      "Years2      -125.9277    235.811     -0.534      0.594    -590.853     338.998\n",
      "==============================================================================\n",
      "Omnibus:                      104.786   Durbin-Watson:                   0.640\n",
      "Prob(Omnibus):                  0.000   Jarque-Bera (JB):              520.204\n",
      "Skew:                           1.962   Prob(JB):                    1.09e-113\n",
      "Kurtosis:                       9.680   Cond. No.                         10.6\n",
      "==============================================================================\n",
      "\n",
      "Notes:\n",
      "[1] Standard Errors assume that the covariance matrix of the errors is correctly specified.\n"
     ]
    }
   ],
   "source": [
    "# Define the dependent and independent variables\n",
    "x = df_encoded[['Gender',\"Years2\"]]\n",
    "y = df_encoded['Salary']\n",
    "\n",
    "# Add constant to the independent variable matrix\n",
    "x = sm.add_constant(x)\n",
    "\n",
    "# Fit the OLS model\n",
    "model = sm.OLS(y, x).fit()\n",
    "\n",
    "# Get the model summary\n",
    "print(model.summary())"
   ]
  },
  {
   "cell_type": "markdown",
   "id": "20922c61",
   "metadata": {},
   "source": [
    "# Interaction effect -gender and education"
   ]
  },
  {
   "cell_type": "code",
   "execution_count": 66,
   "id": "221c88ab",
   "metadata": {},
   "outputs": [
    {
     "name": "stdout",
     "output_type": "stream",
     "text": [
      "                            OLS Regression Results                            \n",
      "==============================================================================\n",
      "Dep. Variable:                 Salary   R-squared:                       0.155\n",
      "Model:                            OLS   Adj. R-squared:                  0.134\n",
      "Method:                 Least Squares   F-statistic:                     7.433\n",
      "Date:                Thu, 29 Jun 2023   Prob (F-statistic):           2.02e-06\n",
      "Time:                        17:29:05   Log-Likelihood:                -2217.4\n",
      "No. Observations:                 208   AIC:                             4447.\n",
      "Df Residuals:                     202   BIC:                             4467.\n",
      "Df Model:                           5                                         \n",
      "Covariance Type:            nonrobust                                         \n",
      "==============================================================================\n",
      "                 coef    std err          t      P>|t|      [0.025      0.975]\n",
      "------------------------------------------------------------------------------\n",
      "const       4.551e+04   1269.909     35.834      0.000     4.3e+04     4.8e+04\n",
      "gen_ed1    -1.033e+04   2221.654     -4.649      0.000   -1.47e+04   -5948.773\n",
      "gen_ed2    -1.037e+04   2322.521     -4.467      0.000    -1.5e+04   -5794.913\n",
      "gen_ed3    -8789.1621   2040.328     -4.308      0.000   -1.28e+04   -4766.089\n",
      "gen_ed4    -6005.4412   4852.317     -1.238      0.217   -1.56e+04    3562.248\n",
      "gen_ed5    -3722.7745   2295.224     -1.622      0.106   -8248.446     802.897\n",
      "==============================================================================\n",
      "Omnibus:                      110.521   Durbin-Watson:                   0.742\n",
      "Prob(Omnibus):                  0.000   Jarque-Bera (JB):              624.795\n",
      "Skew:                           2.034   Prob(JB):                    2.13e-136\n",
      "Kurtosis:                      10.452   Cond. No.                         7.20\n",
      "==============================================================================\n",
      "\n",
      "Notes:\n",
      "[1] Standard Errors assume that the covariance matrix of the errors is correctly specified.\n"
     ]
    }
   ],
   "source": [
    "df_gen_edu=pd.DataFrame() # empty dataframe for gender and education \n",
    "#making dependent variable by multipying them , creating intreaction effect \n",
    "df_gen_edu[\"gen_ed1\"]=df_encoded[\"Gender\"]*df_encoded[\"Education_1\"]\n",
    "df_gen_edu[\"gen_ed2\"]=df_encoded[\"Gender\"]*df_encoded[\"Education_2\"]\n",
    "df_gen_edu[\"gen_ed3\"]=df_encoded[\"Gender\"]*df_encoded[\"Education_3\"]\n",
    "df_gen_edu[\"gen_ed4\"]=df_encoded[\"Gender\"]*df_encoded[\"Education_4\"]\n",
    "df_gen_edu[\"gen_ed5\"]=df_encoded[\"Gender\"]*df_encoded[\"Education_5\"]\n",
    "\n",
    "\n",
    "# Define the dependent and independent variables\n",
    "x = df_gen_edu\n",
    "y = df_encoded['Salary']\n",
    "\n",
    "# Add constant to the independent variable matrix\n",
    "x = sm.add_constant(x)\n",
    "\n",
    "# Fit the OLS model\n",
    "model = sm.OLS(y, x).fit()\n",
    "\n",
    "# Get the model summary\n",
    "print(model.summary())"
   ]
  },
  {
   "cell_type": "markdown",
   "id": "e204c10c",
   "metadata": {},
   "source": [
    "# Interaction effect -gender and grade "
   ]
  },
  {
   "cell_type": "code",
   "execution_count": 67,
   "id": "e52d10ce",
   "metadata": {},
   "outputs": [
    {
     "name": "stdout",
     "output_type": "stream",
     "text": [
      "                            OLS Regression Results                            \n",
      "==============================================================================\n",
      "Dep. Variable:                 Salary   R-squared:                       0.259\n",
      "Model:                            OLS   Adj. R-squared:                  0.241\n",
      "Method:                 Least Squares   F-statistic:                     14.11\n",
      "Date:                Thu, 29 Jun 2023   Prob (F-statistic):           7.74e-12\n",
      "Time:                        17:29:05   Log-Likelihood:                -2203.8\n",
      "No. Observations:                 208   AIC:                             4420.\n",
      "Df Residuals:                     202   BIC:                             4440.\n",
      "Df Model:                           5                                         \n",
      "Covariance Type:            nonrobust                                         \n",
      "==============================================================================\n",
      "                 coef    std err          t      P>|t|      [0.025      0.975]\n",
      "------------------------------------------------------------------------------\n",
      "const       4.528e+04   1180.936     38.343      0.000     4.3e+04    4.76e+04\n",
      "gen_gr1    -1.263e+04   1843.736     -6.851      0.000   -1.63e+04   -8996.121\n",
      "gen_gr2    -1.042e+04   2170.903     -4.798      0.000   -1.47e+04   -6135.014\n",
      "gen_gr3    -6745.1691   2016.832     -3.344      0.001   -1.07e+04   -2768.424\n",
      "gen_gr4     -930.1364   2656.141     -0.350      0.727   -6167.456    4307.183\n",
      "gen_gr5     5819.2754   3476.582      1.674      0.096   -1035.770    1.27e+04\n",
      "==============================================================================\n",
      "Omnibus:                      133.467   Durbin-Watson:                   0.873\n",
      "Prob(Omnibus):                  0.000   Jarque-Bera (JB):             1145.753\n",
      "Skew:                           2.388   Prob(JB):                    1.60e-249\n",
      "Kurtosis:                      13.459   Cond. No.                         5.89\n",
      "==============================================================================\n",
      "\n",
      "Notes:\n",
      "[1] Standard Errors assume that the covariance matrix of the errors is correctly specified.\n"
     ]
    }
   ],
   "source": [
    "df_gen_grade=pd.DataFrame() # empty dataframe for gender and grade\n",
    "#making dependent variable by multipying them , creating intreaction effect \n",
    "df_gen_grade[\"gen_gr1\"]=df_encoded[\"Gender\"]*df_encoded[\"Grade_1\"]\n",
    "df_gen_grade[\"gen_gr2\"]=df_encoded[\"Gender\"]*df_encoded['Grade_2']\n",
    "df_gen_grade[\"gen_gr3\"]=df_encoded[\"Gender\"]*df_encoded['Grade_3']\n",
    "df_gen_grade[\"gen_gr4\"]=df_encoded[\"Gender\"]*df_encoded['Grade_4']\n",
    "df_gen_grade[\"gen_gr5\"]=df_encoded[\"Gender\"]*df_encoded['Grade_5']\n",
    "\n",
    "\n",
    "# Define the dependent and independent variables\n",
    "x = df_gen_grade\n",
    "y = df_encoded['Salary']\n",
    "\n",
    "# Add constant to the independent variable matrix\n",
    "x = sm.add_constant(x)\n",
    "\n",
    "# Fit the OLS model\n",
    "model = sm.OLS(y, x).fit()\n",
    "\n",
    "# Get the model summary\n",
    "print(model.summary())"
   ]
  },
  {
   "cell_type": "code",
   "execution_count": 68,
   "id": "482472a2",
   "metadata": {},
   "outputs": [
    {
     "data": {
      "text/plain": [
       "Index(['Years1', 'Years2', 'Age', 'Gender', 'Salary', 'Education_1',\n",
       "       'Education_2', 'Education_3', 'Education_4', 'Education_5', 'Grade_1',\n",
       "       'Grade_2', 'Grade_3', 'Grade_4', 'Grade_5', 'Grade_6', 'PC Job_No',\n",
       "       'PC Job_Yes'],\n",
       "      dtype='object')"
      ]
     },
     "execution_count": 68,
     "metadata": {},
     "output_type": "execute_result"
    }
   ],
   "source": [
    "df_encoded.columns"
   ]
  },
  {
   "cell_type": "code",
   "execution_count": 69,
   "id": "f047a2e2",
   "metadata": {},
   "outputs": [],
   "source": [
    "# trying observation interaction (gender+Age) on salary as feature and label "
   ]
  },
  {
   "cell_type": "code",
   "execution_count": 70,
   "id": "a1fb29f1",
   "metadata": {},
   "outputs": [
    {
     "name": "stdout",
     "output_type": "stream",
     "text": [
      "                            OLS Regression Results                            \n",
      "==============================================================================\n",
      "Dep. Variable:                 Salary   R-squared:                       0.089\n",
      "Model:                            OLS   Adj. R-squared:                  0.084\n",
      "Method:                 Least Squares   F-statistic:                     20.09\n",
      "Date:                Thu, 29 Jun 2023   Prob (F-statistic):           1.23e-05\n",
      "Time:                        17:29:06   Log-Likelihood:                -2225.3\n",
      "No. Observations:                 208   AIC:                             4455.\n",
      "Df Residuals:                     206   BIC:                             4461.\n",
      "Df Model:                           1                                         \n",
      "Covariance Type:            nonrobust                                         \n",
      "==============================================================================\n",
      "                 coef    std err          t      P>|t|      [0.025      0.975]\n",
      "------------------------------------------------------------------------------\n",
      "const       4.439e+04   1245.967     35.628      0.000    4.19e+04    4.68e+04\n",
      "0           -162.4290     36.242     -4.482      0.000    -233.882     -90.976\n",
      "==============================================================================\n",
      "Omnibus:                      109.876   Durbin-Watson:                   0.561\n",
      "Prob(Omnibus):                  0.000   Jarque-Bera (JB):              567.864\n",
      "Skew:                           2.063   Prob(JB):                    4.90e-124\n",
      "Kurtosis:                       9.964   Cond. No.                         57.4\n",
      "==============================================================================\n",
      "\n",
      "Notes:\n",
      "[1] Standard Errors assume that the covariance matrix of the errors is correctly specified.\n"
     ]
    }
   ],
   "source": [
    "# Define the dependent and independent variables\n",
    "x = df_encoded['Gender']*df_encoded['Age']\n",
    "y = df_encoded['Salary']\n",
    "\n",
    "# Add constant to the independent variable matrix\n",
    "x = sm.add_constant(x)\n",
    "\n",
    "# Fit the OLS model\n",
    "model = sm.OLS(y, x).fit()\n",
    "\n",
    "# Get the model summary\n",
    "print(model.summary())"
   ]
  },
  {
   "cell_type": "code",
   "execution_count": 71,
   "id": "56335347",
   "metadata": {},
   "outputs": [
    {
     "name": "stdout",
     "output_type": "stream",
     "text": [
      "                            OLS Regression Results                            \n",
      "==============================================================================\n",
      "Dep. Variable:                 Salary   R-squared:                       0.025\n",
      "Model:                            OLS   Adj. R-squared:                  0.021\n",
      "Method:                 Least Squares   F-statistic:                     5.371\n",
      "Date:                Thu, 29 Jun 2023   Prob (F-statistic):             0.0215\n",
      "Time:                        17:29:06   Log-Likelihood:                -2232.3\n",
      "No. Observations:                 208   AIC:                             4469.\n",
      "Df Residuals:                     206   BIC:                             4475.\n",
      "Df Model:                           1                                         \n",
      "Covariance Type:            nonrobust                                         \n",
      "==============================================================================\n",
      "                 coef    std err          t      P>|t|      [0.025      0.975]\n",
      "------------------------------------------------------------------------------\n",
      "const       4.171e+04   1092.922     38.167      0.000    3.96e+04    4.39e+04\n",
      "0           -277.9725    119.939     -2.318      0.021    -514.439     -41.506\n",
      "==============================================================================\n",
      "Omnibus:                      120.250   Durbin-Watson:                   0.395\n",
      "Prob(Omnibus):                  0.000   Jarque-Bera (JB):              679.120\n",
      "Skew:                           2.271   Prob(JB):                    3.40e-148\n",
      "Kurtosis:                      10.598   Cond. No.                         13.0\n",
      "==============================================================================\n",
      "\n",
      "Notes:\n",
      "[1] Standard Errors assume that the covariance matrix of the errors is correctly specified.\n"
     ]
    }
   ],
   "source": [
    "# Define the dependent and independent variables\n",
    "x = df_encoded['Gender']*df_encoded['Years1']\n",
    "y = df_encoded['Salary']\n",
    "\n",
    "# Add constant to the independent variable matrix\n",
    "x = sm.add_constant(x)\n",
    "\n",
    "# Fit the OLS model\n",
    "model = sm.OLS(y, x).fit()\n",
    "\n",
    "# Get the model summary\n",
    "print(model.summary())"
   ]
  },
  {
   "cell_type": "code",
   "execution_count": 72,
   "id": "16de1779",
   "metadata": {},
   "outputs": [
    {
     "name": "stdout",
     "output_type": "stream",
     "text": [
      "                            OLS Regression Results                            \n",
      "==============================================================================\n",
      "Dep. Variable:                 Salary   R-squared:                       0.004\n",
      "Model:                            OLS   Adj. R-squared:                 -0.001\n",
      "Method:                 Least Squares   F-statistic:                    0.8341\n",
      "Date:                Thu, 29 Jun 2023   Prob (F-statistic):              0.362\n",
      "Time:                        17:29:06   Log-Likelihood:                -2234.6\n",
      "No. Observations:                 208   AIC:                             4473.\n",
      "Df Residuals:                     206   BIC:                             4480.\n",
      "Df Model:                           1                                         \n",
      "Covariance Type:            nonrobust                                         \n",
      "==============================================================================\n",
      "                 coef    std err          t      P>|t|      [0.025      0.975]\n",
      "------------------------------------------------------------------------------\n",
      "const       4.035e+04    911.099     44.288      0.000    3.86e+04    4.21e+04\n",
      "0           -249.8586    273.573     -0.913      0.362    -789.221     289.504\n",
      "==============================================================================\n",
      "Omnibus:                      127.077   Durbin-Watson:                   0.405\n",
      "Prob(Omnibus):                  0.000   Jarque-Bera (JB):              781.276\n",
      "Skew:                           2.397   Prob(JB):                    2.23e-170\n",
      "Kurtosis:                      11.195   Cond. No.                         3.99\n",
      "==============================================================================\n",
      "\n",
      "Notes:\n",
      "[1] Standard Errors assume that the covariance matrix of the errors is correctly specified.\n"
     ]
    }
   ],
   "source": [
    "# Define the dependent and independent variables\n",
    "x = df_encoded['Gender']*df_encoded['Years2']\n",
    "y = df_encoded['Salary']\n",
    "\n",
    "# Add constant to the independent variable matrix\n",
    "x = sm.add_constant(x)\n",
    "\n",
    "# Fit the OLS model\n",
    "model = sm.OLS(y, x).fit()\n",
    "\n",
    "# Get the model summary\n",
    "print(model.summary())"
   ]
  },
  {
   "cell_type": "code",
   "execution_count": 73,
   "id": "879f352d",
   "metadata": {},
   "outputs": [
    {
     "name": "stdout",
     "output_type": "stream",
     "text": [
      "                            OLS Regression Results                            \n",
      "==============================================================================\n",
      "Dep. Variable:                 Salary   R-squared:                       0.000\n",
      "Model:                            OLS   Adj. R-squared:                 -0.005\n",
      "Method:                 Least Squares   F-statistic:                   0.02414\n",
      "Date:                Thu, 29 Jun 2023   Prob (F-statistic):              0.877\n",
      "Time:                        17:29:06   Log-Likelihood:                -2235.0\n",
      "No. Observations:                 208   AIC:                             4474.\n",
      "Df Residuals:                     206   BIC:                             4481.\n",
      "Df Model:                           1                                         \n",
      "Covariance Type:            nonrobust                                         \n",
      "==============================================================================\n",
      "                 coef    std err          t      P>|t|      [0.025      0.975]\n",
      "------------------------------------------------------------------------------\n",
      "const       3.988e+04    820.702     48.597      0.000    3.83e+04    4.15e+04\n",
      "0            421.8769   2715.439      0.155      0.877   -4931.739    5775.492\n",
      "==============================================================================\n",
      "Omnibus:                      130.399   Durbin-Watson:                   0.376\n",
      "Prob(Omnibus):                  0.000   Jarque-Bera (JB):              834.112\n",
      "Skew:                           2.460   Prob(JB):                    7.50e-182\n",
      "Kurtosis:                      11.487   Cond. No.                         3.50\n",
      "==============================================================================\n",
      "\n",
      "Notes:\n",
      "[1] Standard Errors assume that the covariance matrix of the errors is correctly specified.\n"
     ]
    }
   ],
   "source": [
    "# Define the dependent and independent variables\n",
    "x = df_encoded[\"Gender\"]*df_encoded[\"PC Job_Yes\"]\n",
    "y = df_encoded['Salary']\n",
    "\n",
    "# Add constant to the independent variable matrix\n",
    "x = sm.add_constant(x)\n",
    "\n",
    "# Fit the OLS model\n",
    "model = sm.OLS(y, x).fit()\n",
    "\n",
    "# Get the model summary\n",
    "print(model.summary())"
   ]
  },
  {
   "cell_type": "code",
   "execution_count": 74,
   "id": "122b623d",
   "metadata": {},
   "outputs": [
    {
     "name": "stdout",
     "output_type": "stream",
     "text": [
      "                            OLS Regression Results                            \n",
      "==============================================================================\n",
      "Dep. Variable:                 Salary   R-squared:                       0.113\n",
      "Model:                            OLS   Adj. R-squared:                  0.109\n",
      "Method:                 Least Squares   F-statistic:                     26.19\n",
      "Date:                Thu, 29 Jun 2023   Prob (F-statistic):           7.06e-07\n",
      "Time:                        17:29:06   Log-Likelihood:                -2222.6\n",
      "No. Observations:                 208   AIC:                             4449.\n",
      "Df Residuals:                     206   BIC:                             4456.\n",
      "Df Model:                           1                                         \n",
      "Covariance Type:            nonrobust                                         \n",
      "==============================================================================\n",
      "                 coef    std err          t      P>|t|      [0.025      0.975]\n",
      "------------------------------------------------------------------------------\n",
      "const       4.437e+04   1139.437     38.940      0.000    4.21e+04    4.66e+04\n",
      "0          -7645.8858   1493.927     -5.118      0.000   -1.06e+04   -4700.539\n",
      "==============================================================================\n",
      "Omnibus:                      115.692   Durbin-Watson:                   0.550\n",
      "Prob(Omnibus):                  0.000   Jarque-Bera (JB):              650.431\n",
      "Skew:                           2.161   Prob(JB):                    5.76e-142\n",
      "Kurtosis:                      10.508   Cond. No.                         2.86\n",
      "==============================================================================\n",
      "\n",
      "Notes:\n",
      "[1] Standard Errors assume that the covariance matrix of the errors is correctly specified.\n"
     ]
    }
   ],
   "source": [
    "# Define the dependent and independent variables\n",
    "x = df_encoded[\"Gender\"]*df_encoded[\"PC Job_No\"]\n",
    "y = df_encoded['Salary']\n",
    "\n",
    "# Add constant to the independent variable matrix\n",
    "x = sm.add_constant(x)\n",
    "\n",
    "# Fit the OLS model\n",
    "model = sm.OLS(y, x).fit()\n",
    "\n",
    "# Get the model summary\n",
    "print(model.summary())"
   ]
  },
  {
   "cell_type": "markdown",
   "id": "d7592aeb",
   "metadata": {},
   "source": [
    "# Feature engineering -RFE"
   ]
  },
  {
   "cell_type": "code",
   "execution_count": 75,
   "id": "6c1b6f6c",
   "metadata": {},
   "outputs": [],
   "source": [
    "#RFE\n",
    "from sklearn.feature_selection import RFE\n",
    "from sklearn.linear_model import LinearRegression\n",
    "import statsmodels.api as sm \n",
    "from statsmodels.stats.outliers_influence import variance_inflation_factor\n",
    "from sklearn.model_selection import train_test_split\n",
    "from sklearn.metrics import mean_squared_error"
   ]
  },
  {
   "cell_type": "code",
   "execution_count": 76,
   "id": "7628bd7d",
   "metadata": {},
   "outputs": [],
   "source": [
    "X=df_encoded.drop([\"Salary\"], axis =1)\n",
    "y=df_encoded.Salary"
   ]
  },
  {
   "cell_type": "code",
   "execution_count": 77,
   "id": "91f5af0a",
   "metadata": {},
   "outputs": [],
   "source": [
    "# spllitting train n test\n",
    "X_train,X_test,y_train,y_test=train_test_split(X,y, test_size= 0.1, random_state=42) "
   ]
  },
  {
   "cell_type": "code",
   "execution_count": 78,
   "id": "d61509d1",
   "metadata": {},
   "outputs": [],
   "source": [
    "model=LinearRegression() # fiiting the model"
   ]
  },
  {
   "cell_type": "code",
   "execution_count": 79,
   "id": "e6809ce5",
   "metadata": {},
   "outputs": [],
   "source": [
    "rfe=RFE(estimator=model,n_features_to_select= None)"
   ]
  },
  {
   "cell_type": "code",
   "execution_count": 80,
   "id": "a6ba2ad0",
   "metadata": {},
   "outputs": [
    {
     "data": {
      "text/plain": [
       "RFE(estimator=LinearRegression())"
      ]
     },
     "execution_count": 80,
     "metadata": {},
     "output_type": "execute_result"
    }
   ],
   "source": [
    "rfe.fit(X_train,y_train)"
   ]
  },
  {
   "cell_type": "code",
   "execution_count": 81,
   "id": "f9068e15",
   "metadata": {},
   "outputs": [
    {
     "data": {
      "text/plain": [
       "LinearRegression()"
      ]
     },
     "execution_count": 81,
     "metadata": {},
     "output_type": "execute_result"
    }
   ],
   "source": [
    "train_selected_feat=rfe.transform(X_train)\n",
    "test_selected_feat=rfe.transform(X_test)\n",
    "model.fit(train_selected_feat,y_train)"
   ]
  },
  {
   "cell_type": "code",
   "execution_count": 82,
   "id": "8fe1c3c6",
   "metadata": {},
   "outputs": [
    {
     "data": {
      "text/plain": [
       "0.7412910192179387"
      ]
     },
     "execution_count": 82,
     "metadata": {},
     "output_type": "execute_result"
    }
   ],
   "source": [
    "score=model.score(test_selected_feat,y_test)\n",
    "score"
   ]
  },
  {
   "cell_type": "code",
   "execution_count": 83,
   "id": "5128ab42",
   "metadata": {},
   "outputs": [],
   "source": [
    "y_pre=model.predict(test_selected_feat) # predicting the model"
   ]
  },
  {
   "cell_type": "code",
   "execution_count": 84,
   "id": "0916f26b",
   "metadata": {},
   "outputs": [
    {
     "data": {
      "text/plain": [
       "4348.532799572724"
      ]
     },
     "execution_count": 84,
     "metadata": {},
     "output_type": "execute_result"
    }
   ],
   "source": [
    "mse=mean_squared_error(np.array(y_pre),y_test)\n",
    "np.sqrt(mse)"
   ]
  },
  {
   "cell_type": "code",
   "execution_count": 85,
   "id": "8d594ce6",
   "metadata": {},
   "outputs": [
    {
     "data": {
      "text/plain": [
       "(187, 8)"
      ]
     },
     "execution_count": 85,
     "metadata": {},
     "output_type": "execute_result"
    }
   ],
   "source": [
    "train_selected_feat.shape"
   ]
  },
  {
   "cell_type": "code",
   "execution_count": 86,
   "id": "1e4e730f",
   "metadata": {},
   "outputs": [
    {
     "data": {
      "text/plain": [
       "Index(['Education_4', 'Grade_1', 'Grade_2', 'Grade_3', 'Grade_5', 'Grade_6',\n",
       "       'PC Job_No', 'PC Job_Yes'],\n",
       "      dtype='object')"
      ]
     },
     "execution_count": 86,
     "metadata": {},
     "output_type": "execute_result"
    }
   ],
   "source": [
    "selected_features = X.columns[rfe.get_support()]\n",
    "selected_features "
   ]
  },
  {
   "cell_type": "code",
   "execution_count": 87,
   "id": "e39cd011",
   "metadata": {},
   "outputs": [
    {
     "name": "stdout",
     "output_type": "stream",
     "text": [
      "                            OLS Regression Results                            \n",
      "==============================================================================\n",
      "Dep. Variable:                 Salary   R-squared:                       0.716\n",
      "Model:                            OLS   Adj. R-squared:                  0.707\n",
      "Method:                 Least Squares   F-statistic:                     72.20\n",
      "Date:                Thu, 29 Jun 2023   Prob (F-statistic):           2.51e-51\n",
      "Time:                        17:29:06   Log-Likelihood:                -2103.9\n",
      "No. Observations:                 208   AIC:                             4224.\n",
      "Df Residuals:                     200   BIC:                             4251.\n",
      "Df Model:                           7                                         \n",
      "Covariance Type:            nonrobust                                         \n",
      "===============================================================================\n",
      "                  coef    std err          t      P>|t|      [0.025      0.975]\n",
      "-------------------------------------------------------------------------------\n",
      "const        3.051e+04    862.128     35.388      0.000    2.88e+04    3.22e+04\n",
      "Education_4 -1570.4681   2239.824     -0.701      0.484   -5987.169    2846.233\n",
      "Grade_1     -1.165e+04   1396.856     -8.341      0.000   -1.44e+04   -8896.513\n",
      "Grade_2     -9656.9638   1494.010     -6.464      0.000   -1.26e+04   -6710.931\n",
      "Grade_3     -5378.8726   1495.337     -3.597      0.000   -8327.523   -2430.222\n",
      "Grade_5      6690.6448   1770.874      3.778      0.000    3198.666    1.02e+04\n",
      "Grade_6       2.44e+04   2008.923     12.146      0.000    2.04e+04    2.84e+04\n",
      "PC Job_No     1.32e+04    671.955     19.650      0.000    1.19e+04    1.45e+04\n",
      "PC Job_Yes   1.731e+04   1017.880     17.001      0.000    1.53e+04    1.93e+04\n",
      "==============================================================================\n",
      "Omnibus:                       59.313   Durbin-Watson:                   1.271\n",
      "Prob(Omnibus):                  0.000   Jarque-Bera (JB):             1410.690\n",
      "Skew:                           0.321   Prob(JB):                    4.71e-307\n",
      "Kurtosis:                      15.742   Cond. No.                     2.55e+16\n",
      "==============================================================================\n",
      "\n",
      "Notes:\n",
      "[1] Standard Errors assume that the covariance matrix of the errors is correctly specified.\n",
      "[2] The smallest eigenvalue is 6.57e-31. This might indicate that there are\n",
      "strong multicollinearity problems or that the design matrix is singular.\n"
     ]
    }
   ],
   "source": [
    "# Define the dependent and independent variable\n",
    "x = df_encoded[['Education_4','Grade_1', 'Grade_2', 'Grade_3', 'Grade_5', 'Grade_6','PC Job_No', 'PC Job_Yes']]\n",
    "y = df_encoded['Salary']\n",
    "\n",
    "# Add constant to the independent variable matrix\n",
    "x = sm.add_constant(x)\n",
    "\n",
    "# Fit the OLS model\n",
    "model = sm.OLS(y, x).fit()\n",
    "\n",
    "# Get the model summary\n",
    "print(model.summary())"
   ]
  },
  {
   "cell_type": "markdown",
   "id": "60ef153a",
   "metadata": {},
   "source": [
    "observation :\n",
    "* in RFE the vartion exaplin is less compared to the model we used on basis of t test after removing in significant values \n",
    "* this might happen due multicollinearity in data \n"
   ]
  },
  {
   "cell_type": "raw",
   "id": "94b76989",
   "metadata": {},
   "source": [
    "# over all observation(insights) of case study \n",
    "\n",
    "*Yes, there is discrimination between gender, and we have evidence i.e their difference in pay of salary\n",
    "*There is also gender discrimination on basis of promotion as men tend to have lower age compared women have higher age, comparatively the  average age gap btw men and women is 10 years\n",
    "\n",
    "*With feature (Gender, Education-Level (1-5), Age, Years1, Grade-level (1-5), PC job)\n",
    "The coefficient for gender is -2554(approx.) which means when the gender is female the target variable reduces by -2554  whereas for males the effect is nullified as the gender becomes zero\n",
    "\n",
    "The coefficient for grade_1 is -5100(approx.) which means when the grade_1 is female the target variable reduces by -5100  whereas for males the effect is nullified as the gender becomes zero\n",
    "\n",
    "The coefficient for grade_2 is -3535(approx.) which means when the gender is female the target variable reduces by -3535 whereas for males the effect is nullified as the gender becomes zero\n",
    "   \n",
    "* Best variation of model explains by above these set of of feature after removing insignificant feature (['Salary','Years2',\"Age\",'Grade_3'])\n",
    "   \n",
    "* With some other in combination of interaction effect \n",
    "Gender with combination job grades(promotion) are also discriminated, as the gender and grades  coefficient remain negative \n",
    "\n",
    "Gender with combination education are not discriminated, as education Coeff remain positive \n",
    "\n"
   ]
  },
  {
   "cell_type": "markdown",
   "id": "968ddd4d",
   "metadata": {},
   "source": []
  }
 ],
 "metadata": {
  "kernelspec": {
   "display_name": "Python 3 (ipykernel)",
   "language": "python",
   "name": "python3"
  },
  "language_info": {
   "codemirror_mode": {
    "name": "ipython",
    "version": 3
   },
   "file_extension": ".py",
   "mimetype": "text/x-python",
   "name": "python",
   "nbconvert_exporter": "python",
   "pygments_lexer": "ipython3",
   "version": "3.9.13"
  }
 },
 "nbformat": 4,
 "nbformat_minor": 5
}
